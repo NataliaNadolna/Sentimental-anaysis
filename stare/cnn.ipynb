{
 "cells": [
  {
   "cell_type": "code",
   "execution_count": 28,
   "id": "initial_id",
   "metadata": {
    "ExecuteTime": {
     "end_time": "2025-05-05T19:03:42.232090Z",
     "start_time": "2025-05-05T19:03:42.225156Z"
    },
    "collapsed": true
   },
   "outputs": [],
   "source": [
    "import numpy as np\n",
    "import pandas as pd\n",
    "import torch\n",
    "import torch.nn as nn\n",
    "from torch.utils.data import Dataset, DataLoader\n",
    "from sklearn.model_selection import StratifiedKFold\n",
    "from sklearn.metrics import make_scorer, f1_score, accuracy_score, precision_score, recall_score, confusion_matrix\n",
    "from sklearn.feature_extraction.text import TfidfVectorizer\n",
    "from tqdm import tqdm\n",
    "import os\n",
    "import matplotlib.pyplot as plt\n",
    "import seaborn as sns\n",
    "from sklearn.feature_extraction.text import TfidfVectorizer\n",
    "from sklearn.model_selection import cross_validate"
   ]
  },
  {
   "cell_type": "code",
   "execution_count": 29,
   "id": "4ca8407e36490c18",
   "metadata": {
    "ExecuteTime": {
     "end_time": "2025-05-05T19:03:43.031639Z",
     "start_time": "2025-05-05T19:03:42.377562Z"
    },
    "collapsed": false
   },
   "outputs": [],
   "source": [
    "sentiment_dataset = pd.read_csv(\"Sentiment140_filtered.csv\")"
   ]
  },
  {
   "cell_type": "code",
   "execution_count": 30,
   "id": "2f1dd2dbdf041af7",
   "metadata": {
    "ExecuteTime": {
     "end_time": "2025-05-05T19:03:43.054820Z",
     "start_time": "2025-05-05T19:03:43.035755Z"
    },
    "collapsed": false
   },
   "outputs": [
    {
     "data": {
      "text/html": [
       "<div>\n",
       "<style scoped>\n",
       "    .dataframe tbody tr th:only-of-type {\n",
       "        vertical-align: middle;\n",
       "    }\n",
       "\n",
       "    .dataframe tbody tr th {\n",
       "        vertical-align: top;\n",
       "    }\n",
       "\n",
       "    .dataframe thead th {\n",
       "        text-align: right;\n",
       "    }\n",
       "</style>\n",
       "<table border=\"1\" class=\"dataframe\">\n",
       "  <thead>\n",
       "    <tr style=\"text-align: right;\">\n",
       "      <th></th>\n",
       "      <th>Unnamed: 0</th>\n",
       "      <th>target</th>\n",
       "      <th>ids</th>\n",
       "      <th>date</th>\n",
       "      <th>flag</th>\n",
       "      <th>user</th>\n",
       "      <th>text</th>\n",
       "      <th>hate_pred</th>\n",
       "    </tr>\n",
       "  </thead>\n",
       "  <tbody>\n",
       "    <tr>\n",
       "      <th>0</th>\n",
       "      <td>750</td>\n",
       "      <td>0</td>\n",
       "      <td>1467998601</td>\n",
       "      <td>Mon Apr 06 23:11:18 PDT 2009</td>\n",
       "      <td>NO_QUERY</td>\n",
       "      <td>Young_J</td>\n",
       "      <td>I'm off too bed. I gotta wake up hella early t...</td>\n",
       "      <td>1</td>\n",
       "    </tr>\n",
       "    <tr>\n",
       "      <th>1</th>\n",
       "      <td>766711</td>\n",
       "      <td>0</td>\n",
       "      <td>2300049112</td>\n",
       "      <td>Tue Jun 23 13:40:12 PDT 2009</td>\n",
       "      <td>NO_QUERY</td>\n",
       "      <td>dougnawoschik</td>\n",
       "      <td>I havent been able to listen to it yet  My spe...</td>\n",
       "      <td>1</td>\n",
       "    </tr>\n",
       "    <tr>\n",
       "      <th>2</th>\n",
       "      <td>285055</td>\n",
       "      <td>0</td>\n",
       "      <td>1993474319</td>\n",
       "      <td>Mon Jun 01 10:26:09 PDT 2009</td>\n",
       "      <td>NO_QUERY</td>\n",
       "      <td>thireven</td>\n",
       "      <td>now remembers why solving a relatively big equ...</td>\n",
       "      <td>1</td>\n",
       "    </tr>\n",
       "    <tr>\n",
       "      <th>3</th>\n",
       "      <td>705995</td>\n",
       "      <td>0</td>\n",
       "      <td>2256551006</td>\n",
       "      <td>Sat Jun 20 12:56:51 PDT 2009</td>\n",
       "      <td>NO_QUERY</td>\n",
       "      <td>taracollins086</td>\n",
       "      <td>Ate too much, feel sick</td>\n",
       "      <td>1</td>\n",
       "    </tr>\n",
       "    <tr>\n",
       "      <th>4</th>\n",
       "      <td>379611</td>\n",
       "      <td>0</td>\n",
       "      <td>2052381070</td>\n",
       "      <td>Sat Jun 06 00:32:23 PDT 2009</td>\n",
       "      <td>NO_QUERY</td>\n",
       "      <td>Portablemonkey</td>\n",
       "      <td>Tried to purchase a parked domain through GoDa...</td>\n",
       "      <td>1</td>\n",
       "    </tr>\n",
       "  </tbody>\n",
       "</table>\n",
       "</div>"
      ],
      "text/plain": [
       "   Unnamed: 0  target         ids                          date      flag  \\\n",
       "0         750       0  1467998601  Mon Apr 06 23:11:18 PDT 2009  NO_QUERY   \n",
       "1      766711       0  2300049112  Tue Jun 23 13:40:12 PDT 2009  NO_QUERY   \n",
       "2      285055       0  1993474319  Mon Jun 01 10:26:09 PDT 2009  NO_QUERY   \n",
       "3      705995       0  2256551006  Sat Jun 20 12:56:51 PDT 2009  NO_QUERY   \n",
       "4      379611       0  2052381070  Sat Jun 06 00:32:23 PDT 2009  NO_QUERY   \n",
       "\n",
       "             user                                               text  \\\n",
       "0         Young_J  I'm off too bed. I gotta wake up hella early t...   \n",
       "1   dougnawoschik  I havent been able to listen to it yet  My spe...   \n",
       "2        thireven  now remembers why solving a relatively big equ...   \n",
       "3  taracollins086                           Ate too much, feel sick    \n",
       "4  Portablemonkey  Tried to purchase a parked domain through GoDa...   \n",
       "\n",
       "   hate_pred  \n",
       "0          1  \n",
       "1          1  \n",
       "2          1  \n",
       "3          1  \n",
       "4          1  "
      ]
     },
     "execution_count": 30,
     "metadata": {},
     "output_type": "execute_result"
    }
   ],
   "source": [
    "sentiment_dataset.head()"
   ]
  },
  {
   "cell_type": "code",
   "execution_count": 31,
   "id": "cd33133fa12ada83",
   "metadata": {
    "ExecuteTime": {
     "end_time": "2025-05-05T19:03:43.111062Z",
     "start_time": "2025-05-05T19:03:43.057789Z"
    },
    "collapsed": false
   },
   "outputs": [
    {
     "data": {
      "text/plain": [
       "Unnamed: 0    0\n",
       "target        0\n",
       "ids           0\n",
       "date          0\n",
       "flag          0\n",
       "user          0\n",
       "text          0\n",
       "hate_pred     0\n",
       "dtype: int64"
      ]
     },
     "execution_count": 31,
     "metadata": {},
     "output_type": "execute_result"
    }
   ],
   "source": [
    "sentiment_dataset.isnull().sum()"
   ]
  },
  {
   "cell_type": "code",
   "execution_count": 32,
   "id": "208569a0a3f56969",
   "metadata": {
    "ExecuteTime": {
     "end_time": "2025-05-05T19:03:44.324172Z",
     "start_time": "2025-05-05T19:03:43.115098Z"
    },
    "collapsed": false
   },
   "outputs": [
    {
     "data": {
      "text/plain": [
       "<seaborn.axisgrid.FacetGrid at 0x1df0731aec0>"
      ]
     },
     "execution_count": 32,
     "metadata": {},
     "output_type": "execute_result"
    },
    {
     "data": {
      "image/png": "[encoded data removed]",
      "text/plain": [
       "<Figure size 368x360 with 1 Axes>"
      ]
     },
     "metadata": {
      "needs_background": "light"
     },
     "output_type": "display_data"
    }
   ],
   "source": [
    "sns.catplot(x = 'target', data = sentiment_dataset, kind = 'count')\n"
   ]
  },
  {
   "cell_type": "code",
   "execution_count": 33,
   "id": "5f9664a800f1f89",
   "metadata": {
    "ExecuteTime": {
     "end_time": "2025-05-05T19:03:44.952077Z",
     "start_time": "2025-05-05T19:03:44.327161Z"
    },
    "collapsed": false
   },
   "outputs": [],
   "source": [
    "hateful_dataset = pd.read_csv(\"hateful_sentiment.csv\")"
   ]
  },
  {
   "cell_type": "code",
   "execution_count": 34,
   "id": "dca7580ded022803",
   "metadata": {
    "ExecuteTime": {
     "end_time": "2025-05-05T19:03:44.973001Z",
     "start_time": "2025-05-05T19:03:44.954211Z"
    },
    "collapsed": false
   },
   "outputs": [
    {
     "data": {
      "text/html": [
       "<div>\n",
       "<style scoped>\n",
       "    .dataframe tbody tr th:only-of-type {\n",
       "        vertical-align: middle;\n",
       "    }\n",
       "\n",
       "    .dataframe tbody tr th {\n",
       "        vertical-align: top;\n",
       "    }\n",
       "\n",
       "    .dataframe thead th {\n",
       "        text-align: right;\n",
       "    }\n",
       "</style>\n",
       "<table border=\"1\" class=\"dataframe\">\n",
       "  <thead>\n",
       "    <tr style=\"text-align: right;\">\n",
       "      <th></th>\n",
       "      <th>Content</th>\n",
       "      <th>Label</th>\n",
       "      <th>Content_int</th>\n",
       "    </tr>\n",
       "  </thead>\n",
       "  <tbody>\n",
       "    <tr>\n",
       "      <th>0</th>\n",
       "      <td>retweet to the rejects who constantly call my ...</td>\n",
       "      <td>1</td>\n",
       "      <td>[146715, 1761, 7, 3, 22587, 67, 6768, 472, 129...</td>\n",
       "    </tr>\n",
       "    <tr>\n",
       "      <th>1</th>\n",
       "      <td>i purpose that whatever attack everyone who ca...</td>\n",
       "      <td>1</td>\n",
       "      <td>[146715, 80, 4226, 28, 220, 1347, 1568, 67, 65...</td>\n",
       "    </tr>\n",
       "    <tr>\n",
       "      <th>2</th>\n",
       "      <td>are you fucking kidding me you deserve to fuck...</td>\n",
       "      <td>1</td>\n",
       "      <td>[146715, 154, 26, 69, 1361, 78, 26, 6610, 7, 6...</td>\n",
       "    </tr>\n",
       "    <tr>\n",
       "      <th>3</th>\n",
       "      <td>retweet i am not racist and i am not sexist i ...</td>\n",
       "      <td>1</td>\n",
       "      <td>[146715, 1761, 80, 81, 76, 1723, 111, 80, 81, ...</td>\n",
       "    </tr>\n",
       "    <tr>\n",
       "      <th>4</th>\n",
       "      <td>just imagine if the two million spent on the s...</td>\n",
       "      <td>1</td>\n",
       "      <td>[146715, 14, 925, 204, 3, 672, 462, 5271, 9, 3...</td>\n",
       "    </tr>\n",
       "  </tbody>\n",
       "</table>\n",
       "</div>"
      ],
      "text/plain": [
       "                                             Content  Label  \\\n",
       "0  retweet to the rejects who constantly call my ...      1   \n",
       "1  i purpose that whatever attack everyone who ca...      1   \n",
       "2  are you fucking kidding me you deserve to fuck...      1   \n",
       "3  retweet i am not racist and i am not sexist i ...      1   \n",
       "4  just imagine if the two million spent on the s...      1   \n",
       "\n",
       "                                         Content_int  \n",
       "0  [146715, 1761, 7, 3, 22587, 67, 6768, 472, 129...  \n",
       "1  [146715, 80, 4226, 28, 220, 1347, 1568, 67, 65...  \n",
       "2  [146715, 154, 26, 69, 1361, 78, 26, 6610, 7, 6...  \n",
       "3  [146715, 1761, 80, 81, 76, 1723, 111, 80, 81, ...  \n",
       "4  [146715, 14, 925, 204, 3, 672, 462, 5271, 9, 3...  "
      ]
     },
     "execution_count": 34,
     "metadata": {},
     "output_type": "execute_result"
    }
   ],
   "source": [
    "hateful_dataset.head()"
   ]
  },
  {
   "cell_type": "code",
   "execution_count": 35,
   "id": "ddef1585ba2ee1be",
   "metadata": {
    "ExecuteTime": {
     "end_time": "2025-05-05T19:03:45.037986Z",
     "start_time": "2025-05-05T19:03:44.980846Z"
    },
    "collapsed": false
   },
   "outputs": [
    {
     "data": {
      "text/html": [
       "<div>\n",
       "<style scoped>\n",
       "    .dataframe tbody tr th:only-of-type {\n",
       "        vertical-align: middle;\n",
       "    }\n",
       "\n",
       "    .dataframe tbody tr th {\n",
       "        vertical-align: top;\n",
       "    }\n",
       "\n",
       "    .dataframe thead th {\n",
       "        text-align: right;\n",
       "    }\n",
       "</style>\n",
       "<table border=\"1\" class=\"dataframe\">\n",
       "  <thead>\n",
       "    <tr style=\"text-align: right;\">\n",
       "      <th></th>\n",
       "      <th>text</th>\n",
       "      <th>target</th>\n",
       "    </tr>\n",
       "  </thead>\n",
       "  <tbody>\n",
       "    <tr>\n",
       "      <th>0</th>\n",
       "      <td>retweet to the rejects who constantly call my ...</td>\n",
       "      <td>2</td>\n",
       "    </tr>\n",
       "    <tr>\n",
       "      <th>1</th>\n",
       "      <td>i purpose that whatever attack everyone who ca...</td>\n",
       "      <td>2</td>\n",
       "    </tr>\n",
       "    <tr>\n",
       "      <th>2</th>\n",
       "      <td>are you fucking kidding me you deserve to fuck...</td>\n",
       "      <td>2</td>\n",
       "    </tr>\n",
       "    <tr>\n",
       "      <th>3</th>\n",
       "      <td>retweet i am not racist and i am not sexist i ...</td>\n",
       "      <td>2</td>\n",
       "    </tr>\n",
       "    <tr>\n",
       "      <th>4</th>\n",
       "      <td>just imagine if the two million spent on the s...</td>\n",
       "      <td>2</td>\n",
       "    </tr>\n",
       "  </tbody>\n",
       "</table>\n",
       "</div>"
      ],
      "text/plain": [
       "                                                text  target\n",
       "0  retweet to the rejects who constantly call my ...       2\n",
       "1  i purpose that whatever attack everyone who ca...       2\n",
       "2  are you fucking kidding me you deserve to fuck...       2\n",
       "3  retweet i am not racist and i am not sexist i ...       2\n",
       "4  just imagine if the two million spent on the s...       2"
      ]
     },
     "execution_count": 35,
     "metadata": {},
     "output_type": "execute_result"
    }
   ],
   "source": [
    "hateful_dataset = hateful_dataset[[\"Content\", \"Label\"]]\n",
    "hateful_dataset = hateful_dataset.rename(columns = {\"Content\": \"text\", \"Label\": \"target\"})\n",
    "hateful_dataset[\"target\"] = 2\n",
    "\n",
    "hateful_dataset.head()"
   ]
  },
  {
   "cell_type": "code",
   "execution_count": 36,
   "id": "7cf15d9e9a5a3600",
   "metadata": {
    "ExecuteTime": {
     "end_time": "2025-05-05T19:03:45.070750Z",
     "start_time": "2025-05-05T19:03:45.047991Z"
    },
    "collapsed": false
   },
   "outputs": [
    {
     "data": {
      "text/html": [
       "<div>\n",
       "<style scoped>\n",
       "    .dataframe tbody tr th:only-of-type {\n",
       "        vertical-align: middle;\n",
       "    }\n",
       "\n",
       "    .dataframe tbody tr th {\n",
       "        vertical-align: top;\n",
       "    }\n",
       "\n",
       "    .dataframe thead th {\n",
       "        text-align: right;\n",
       "    }\n",
       "</style>\n",
       "<table border=\"1\" class=\"dataframe\">\n",
       "  <thead>\n",
       "    <tr style=\"text-align: right;\">\n",
       "      <th></th>\n",
       "      <th>text</th>\n",
       "      <th>target</th>\n",
       "    </tr>\n",
       "  </thead>\n",
       "  <tbody>\n",
       "    <tr>\n",
       "      <th>0</th>\n",
       "      <td>I'm off too bed. I gotta wake up hella early t...</td>\n",
       "      <td>0</td>\n",
       "    </tr>\n",
       "    <tr>\n",
       "      <th>1</th>\n",
       "      <td>I havent been able to listen to it yet  My spe...</td>\n",
       "      <td>0</td>\n",
       "    </tr>\n",
       "    <tr>\n",
       "      <th>2</th>\n",
       "      <td>now remembers why solving a relatively big equ...</td>\n",
       "      <td>0</td>\n",
       "    </tr>\n",
       "    <tr>\n",
       "      <th>3</th>\n",
       "      <td>Ate too much, feel sick</td>\n",
       "      <td>0</td>\n",
       "    </tr>\n",
       "    <tr>\n",
       "      <th>4</th>\n",
       "      <td>Tried to purchase a parked domain through GoDa...</td>\n",
       "      <td>0</td>\n",
       "    </tr>\n",
       "  </tbody>\n",
       "</table>\n",
       "</div>"
      ],
      "text/plain": [
       "                                                text  target\n",
       "0  I'm off too bed. I gotta wake up hella early t...       0\n",
       "1  I havent been able to listen to it yet  My spe...       0\n",
       "2  now remembers why solving a relatively big equ...       0\n",
       "3                           Ate too much, feel sick        0\n",
       "4  Tried to purchase a parked domain through GoDa...       0"
      ]
     },
     "execution_count": 36,
     "metadata": {},
     "output_type": "execute_result"
    }
   ],
   "source": [
    "sentiment_dataset = sentiment_dataset[[\"text\", \"target\"]]\n",
    "sentiment_dataset.head()"
   ]
  },
  {
   "cell_type": "code",
   "execution_count": 37,
   "id": "31e3b42f03ddd961",
   "metadata": {
    "ExecuteTime": {
     "end_time": "2025-05-05T19:03:45.088610Z",
     "start_time": "2025-05-05T19:03:45.072768Z"
    },
    "collapsed": false
   },
   "outputs": [],
   "source": [
    "sentiment_dataset.loc[sentiment_dataset['target']==4, 'target'] = 1\n",
    "#sentiment_dataset.loc[sentiment_dataset['target']==0, 'target'] = 0\n",
    "# 0 - negative, 1 - positive, 2 - hateful\n"
   ]
  },
  {
   "cell_type": "code",
   "execution_count": 38,
   "id": "fd985d4d7970574c",
   "metadata": {
    "ExecuteTime": {
     "end_time": "2025-05-05T19:03:45.110965Z",
     "start_time": "2025-05-05T19:03:45.094599Z"
    },
    "collapsed": false
   },
   "outputs": [],
   "source": [
    "sentiment_dataset = pd.concat([sentiment_dataset, hateful_dataset], ignore_index= True)"
   ]
  },
  {
   "cell_type": "code",
   "execution_count": 39,
   "id": "75755888f98893f0",
   "metadata": {
    "ExecuteTime": {
     "end_time": "2025-05-05T19:03:45.161646Z",
     "start_time": "2025-05-05T19:03:45.121940Z"
    },
    "collapsed": false
   },
   "outputs": [
    {
     "data": {
      "text/html": [
       "<div>\n",
       "<style scoped>\n",
       "    .dataframe tbody tr th:only-of-type {\n",
       "        vertical-align: middle;\n",
       "    }\n",
       "\n",
       "    .dataframe tbody tr th {\n",
       "        vertical-align: top;\n",
       "    }\n",
       "\n",
       "    .dataframe thead th {\n",
       "        text-align: right;\n",
       "    }\n",
       "</style>\n",
       "<table border=\"1\" class=\"dataframe\">\n",
       "  <thead>\n",
       "    <tr style=\"text-align: right;\">\n",
       "      <th></th>\n",
       "      <th>text</th>\n",
       "      <th>target</th>\n",
       "    </tr>\n",
       "  </thead>\n",
       "  <tbody>\n",
       "    <tr>\n",
       "      <th>0</th>\n",
       "      <td>I'm off too bed. I gotta wake up hella early t...</td>\n",
       "      <td>0</td>\n",
       "    </tr>\n",
       "    <tr>\n",
       "      <th>1</th>\n",
       "      <td>I havent been able to listen to it yet  My spe...</td>\n",
       "      <td>0</td>\n",
       "    </tr>\n",
       "    <tr>\n",
       "      <th>2</th>\n",
       "      <td>now remembers why solving a relatively big equ...</td>\n",
       "      <td>0</td>\n",
       "    </tr>\n",
       "    <tr>\n",
       "      <th>3</th>\n",
       "      <td>Ate too much, feel sick</td>\n",
       "      <td>0</td>\n",
       "    </tr>\n",
       "    <tr>\n",
       "      <th>4</th>\n",
       "      <td>Tried to purchase a parked domain through GoDa...</td>\n",
       "      <td>0</td>\n",
       "    </tr>\n",
       "  </tbody>\n",
       "</table>\n",
       "</div>"
      ],
      "text/plain": [
       "                                                text  target\n",
       "0  I'm off too bed. I gotta wake up hella early t...       0\n",
       "1  I havent been able to listen to it yet  My spe...       0\n",
       "2  now remembers why solving a relatively big equ...       0\n",
       "3                           Ate too much, feel sick        0\n",
       "4  Tried to purchase a parked domain through GoDa...       0"
      ]
     },
     "execution_count": 39,
     "metadata": {},
     "output_type": "execute_result"
    }
   ],
   "source": [
    "sentiment_dataset.head()"
   ]
  },
  {
   "cell_type": "code",
   "execution_count": 40,
   "id": "85cfba99464a218f",
   "metadata": {
    "ExecuteTime": {
     "end_time": "2025-05-05T19:03:46.419934Z",
     "start_time": "2025-05-05T19:03:45.166665Z"
    },
    "collapsed": false
   },
   "outputs": [
    {
     "data": {
      "text/plain": [
       "<seaborn.axisgrid.FacetGrid at 0x1df0731b0d0>"
      ]
     },
     "execution_count": 40,
     "metadata": {},
     "output_type": "execute_result"
    },
    {
     "data": {
      "image/png": "[encoded data removed]",
      "text/plain": [
       "<Figure size 368x360 with 1 Axes>"
      ]
     },
     "metadata": {
      "needs_background": "light"
     },
     "output_type": "display_data"
    }
   ],
   "source": [
    "sns.catplot(x = 'target', data = sentiment_dataset, kind = 'count')"
   ]
  },
  {
   "cell_type": "code",
   "execution_count": 41,
   "id": "f5b1624ea8418ce2",
   "metadata": {
    "ExecuteTime": {
     "end_time": "2025-05-05T19:03:46.432913Z",
     "start_time": "2025-05-05T19:03:46.420928Z"
    },
    "collapsed": false
   },
   "outputs": [
    {
     "data": {
      "text/plain": [
       "target\n",
       "2    60000\n",
       "1    59700\n",
       "0    59300\n",
       "Name: count, dtype: int64"
      ]
     },
     "execution_count": 41,
     "metadata": {},
     "output_type": "execute_result"
    }
   ],
   "source": [
    "sentiment_dataset['target'].value_counts()"
   ]
  },
  {
   "cell_type": "code",
   "execution_count": 42,
   "id": "22103dab73e41832",
   "metadata": {
    "ExecuteTime": {
     "end_time": "2025-05-05T19:03:46.456931Z",
     "start_time": "2025-05-05T19:03:46.434907Z"
    },
    "collapsed": false
   },
   "outputs": [
    {
     "data": {
      "text/plain": [
       "text      0\n",
       "target    0\n",
       "dtype: int64"
      ]
     },
     "execution_count": 42,
     "metadata": {},
     "output_type": "execute_result"
    }
   ],
   "source": [
    "sentiment_dataset.isnull().sum()"
   ]
  },
  {
   "cell_type": "markdown",
   "id": "d863186d38fc8049",
   "metadata": {
    "collapsed": false
   },
   "source": [
    "CNN"
   ]
  },
  {
   "cell_type": "code",
   "execution_count": 43,
   "id": "7595e59ac83ef95a",
   "metadata": {
    "ExecuteTime": {
     "end_time": "2025-05-05T19:03:46.464215Z",
     "start_time": "2025-05-05T19:03:46.457926Z"
    },
    "collapsed": false
   },
   "outputs": [],
   "source": [
    "X = sentiment_dataset['text']\n",
    "y = sentiment_dataset['target']"
   ]
  },
  {
   "cell_type": "code",
   "execution_count": null,
   "id": "9b1ec9cc",
   "metadata": {},
   "outputs": [],
   "source": [
    "# Tokenizacja i czyszczenie tekstu\n",
    "from collections import Counter\n",
    "import re\n",
    "\n",
    "def tokenize(text):\n",
    "    text = text.lower()\n",
    "    text = re.sub(r\"[^a-zA-Z0-9\\s]\", \"\", text)\n",
    "    return text.split()\n",
    "\n",
    "# Tworzenie słownika\n",
    "all_tokens = [token for text in sentiment_dataset['text'] for token in tokenize(text)]\n",
    "vocab = {word: i+2 for i, (word, _) in enumerate(Counter(all_tokens).most_common(10000))}\n",
    "vocab['<PAD>'] = 0\n",
    "vocab['<UNK>'] = 1\n",
    "\n",
    "def encode(text):\n",
    "    return [vocab.get(token, 1) for token in tokenize(text)]"
   ]
  },
  {
   "cell_type": "code",
   "execution_count": null,
   "id": "8ec88f0f",
   "metadata": {},
   "outputs": [],
   "source": [
    "# vectorizer = TfidfVectorizer(max_features=1000)\n",
    "# X_tfidf = vectorizer.fit_transform(X).toarray()\n",
    "# y_adj = sentiment_dataset['target'].values"
   ]
  },
  {
   "cell_type": "code",
   "execution_count": null,
   "id": "334efe97",
   "metadata": {},
   "outputs": [],
   "source": [
    "class TextDataset(Dataset):\n",
    "    def __init__(self, X, y):\n",
    "        #self.X = torch.tensor(X, dtype=torch.float32)\n",
    "        #self.y = torch.tensor(y.values if isinstance(y, pd.Series) else y, dtype=torch.long)\n",
    "        self.X = [torch.tensor(encode(text)) for text in X]\n",
    "        self.y = torch.tensor(y, dtype=torch.long)\n",
    "\n",
    "    def __len__(self):\n",
    "        return len(self.y)\n",
    "\n",
    "    def __getitem__(self, idx):\n",
    "        return self.X[idx], self.y[idx]"
   ]
  },
  {
   "cell_type": "code",
   "execution_count": 23,
   "id": "44300b35",
   "metadata": {},
   "outputs": [],
   "source": [
    "# class TextCNN(nn.Module):\n",
    "#     def __init__(self, input_dim, num_classes):\n",
    "#         super(TextCNN, self).__init__()\n",
    "#         self.conv1 = nn.Conv1d(in_channels=1, out_channels=100, kernel_size=3)\n",
    "#         self.relu = nn.ReLU()\n",
    "#         self.pool = nn.AdaptiveMaxPool1d(1)\n",
    "#         self.fc = nn.Linear(100, num_classes)\n",
    "\n",
    "#     def forward(self, x):\n",
    "#         x = x.unsqueeze(1)  # [B, 1, D]\n",
    "#         x = self.conv1(x)   # [B, C, D-K+1]\n",
    "#         x = self.relu(x)\n",
    "#         x = self.pool(x).squeeze(2)  # [B, C]\n",
    "#         return self.fc(x)\n",
    "\n",
    "import torch.nn as nn\n",
    "import torch.nn.functional as F\n",
    "\n",
    "class TextCNN(nn.Module):\n",
    "    def __init__(self, input_dim, num_classes, num_filters=100, dropout=0.5):\n",
    "        super(TextCNN, self).__init__()\n",
    "\n",
    "        kernel_sizes = [3, 4, 5]\n",
    "        self.convs = nn.ModuleList([\n",
    "            nn.Conv1d(in_channels=1, out_channels=num_filters, kernel_size=k)\n",
    "            for k in kernel_sizes\n",
    "        ])\n",
    "\n",
    "        self.dropout = nn.Dropout(dropout)\n",
    "        self.fc = nn.Linear(num_filters * len(kernel_sizes), num_classes)\n",
    "\n",
    "    def forward(self, x):\n",
    "        x = x.unsqueeze(1)  # [B, 1, D]\n",
    "        conv_outputs = []\n",
    "\n",
    "        for conv in self.convs:\n",
    "            c = conv(x)                         # [B, num_filters, D-k+1]\n",
    "            c = F.relu(c)\n",
    "            c = F.max_pool1d(c, kernel_size=c.shape[2])  # [B, num_filters, 1]\n",
    "            conv_outputs.append(c.squeeze(2))  # [B, num_filters]\n",
    "\n",
    "        out = torch.cat(conv_outputs, dim=1)   # [B, num_filters * len(kernel_sizes)]\n",
    "        out = self.dropout(out)\n",
    "        return self.fc(out)\n"
   ]
  },
  {
   "cell_type": "code",
   "execution_count": 24,
   "id": "b7c040d3",
   "metadata": {},
   "outputs": [],
   "source": [
    "device = torch.device(\"cuda\" if torch.cuda.is_available() else \"cpu\")\n",
    "input_dim = X_tfidf.shape[1]\n",
    "num_classes = 3 \n",
    "batch_size = 64\n",
    "epochs = 10\n",
    "criterion = nn.CrossEntropyLoss()\n"
   ]
  },
  {
   "cell_type": "code",
   "execution_count": 25,
   "id": "09b69f7b",
   "metadata": {},
   "outputs": [
    {
     "name": "stdout",
     "output_type": "stream",
     "text": [
      "<class 'numpy.ndarray'>\n",
      "<class 'numpy.ndarray'>\n"
     ]
    }
   ],
   "source": [
    "print(type(X_tfidf))  # Sprawdź typ X_tfidf (powinno to być np. numpy.ndarray)\n",
    "print(type(y_adj))    # Sprawdź typ y_adj (powinno to być np. numpy.ndarray lub pd.Series)"
   ]
  },
  {
   "cell_type": "code",
   "execution_count": 26,
   "id": "9565b8be",
   "metadata": {},
   "outputs": [
    {
     "name": "stdout",
     "output_type": "stream",
     "text": [
      "\n",
      "=== Fold 1 ===\n",
      "Epoch 1: Train Loss=2454.6362, Val Loss=1.0914, Val Acc=0.3760\n"
     ]
    },
    {
     "ename": "KeyboardInterrupt",
     "evalue": "",
     "output_type": "error",
     "traceback": [
      "\u001b[1;31m---------------------------------------------------------------------------\u001b[0m",
      "\u001b[1;31mKeyboardInterrupt\u001b[0m                         Traceback (most recent call last)",
      "Input \u001b[1;32mIn [26]\u001b[0m, in \u001b[0;36m<cell line: 5>\u001b[1;34m()\u001b[0m\n\u001b[0;32m     41\u001b[0m output \u001b[38;5;241m=\u001b[39m model(xb)\n\u001b[0;32m     42\u001b[0m loss \u001b[38;5;241m=\u001b[39m criterion(output, yb)\n\u001b[1;32m---> 43\u001b[0m val_loss \u001b[38;5;241m+\u001b[39m\u001b[38;5;241m=\u001b[39m \u001b[43mloss\u001b[49m\u001b[38;5;241;43m.\u001b[39;49m\u001b[43mitem\u001b[49m\u001b[43m(\u001b[49m\u001b[43m)\u001b[49m\n\u001b[0;32m     44\u001b[0m preds \u001b[38;5;241m=\u001b[39m torch\u001b[38;5;241m.\u001b[39margmax(output, dim\u001b[38;5;241m=\u001b[39m\u001b[38;5;241m1\u001b[39m)\u001b[38;5;241m.\u001b[39mcpu()\u001b[38;5;241m.\u001b[39mnumpy()\n\u001b[0;32m     45\u001b[0m y_preds\u001b[38;5;241m.\u001b[39mextend(preds)\n",
      "\u001b[1;31mKeyboardInterrupt\u001b[0m: "
     ]
    }
   ],
   "source": [
    "skf = StratifiedKFold(n_splits=5, shuffle=True, random_state=42)\n",
    "fold = 0\n",
    "results = []\n",
    "\n",
    "for train_idx, val_idx in skf.split(X_tfidf, y):\n",
    "    fold += 1\n",
    "    print(f\"\\n=== Fold {fold} ===\")\n",
    "\n",
    "    X_train, X_val = X_tfidf[train_idx], X_tfidf[val_idx]\n",
    "    y_train, y_val = y[train_idx], y[val_idx]\n",
    "\n",
    "    train_dataset = TextDataset(X_train, y_train)\n",
    "    val_dataset = TextDataset(X_val, y_val)\n",
    "    train_loader = DataLoader(train_dataset, batch_size=batch_size, shuffle=True)\n",
    "    val_loader = DataLoader(val_dataset, batch_size=batch_size, shuffle=False)\n",
    "\n",
    "    model = TextCNN(input_dim=input_dim, num_classes=3).to(device)\n",
    "    optimizer = torch.optim.Adam(model.parameters(), lr=0.001)\n",
    "\n",
    "    best_acc = 0\n",
    "    for epoch in range(epochs):\n",
    "        # Trenowanie\n",
    "        model.train()\n",
    "        total_loss = 0\n",
    "        for xb, yb in train_loader:\n",
    "            xb, yb = xb.to(device), yb.to(device)\n",
    "            optimizer.zero_grad()\n",
    "            output = model(xb)\n",
    "            loss = criterion(output, yb)\n",
    "            loss.backward()\n",
    "            optimizer.step()\n",
    "            total_loss += loss.item()\n",
    "\n",
    "        # Walidacja\n",
    "        model.eval()\n",
    "        val_loss = 0\n",
    "        y_preds, y_trues = [], []\n",
    "        with torch.no_grad():\n",
    "            for xb, yb in val_loader:\n",
    "                xb, yb = xb.to(device), yb.to(device)\n",
    "                output = model(xb)\n",
    "                loss = criterion(output, yb)\n",
    "                val_loss += loss.item()\n",
    "                preds = torch.argmax(output, dim=1).cpu().numpy()\n",
    "                y_preds.extend(preds)\n",
    "                y_trues.extend(yb.cpu().numpy())\n",
    "\n",
    "        val_loss_avg = val_loss / len(val_loader)\n",
    "        val_acc = accuracy_score(y_trues, y_preds)\n",
    "\n",
    "        print(f\"Epoch {epoch+1}: Train Loss={total_loss:.4f}, Val Loss={val_loss_avg:.4f}, Val Acc={val_acc:.4f}\")\n",
    "\n",
    "        if val_acc > best_acc:\n",
    "            best_acc = val_acc\n",
    "            model_path = f\"best_model_fold{fold}.pt\"\n",
    "            torch.save(model.state_dict(), model_path)\n",
    "\n",
    "    # Po epokach: ewaluacja końcowa\n",
    "    precision = precision_score(y_trues, y_preds, average='macro', zero_division=0)\n",
    "    recall = recall_score(y_trues, y_preds, average='macro', zero_division=0)\n",
    "    cm = confusion_matrix(y_trues, y_preds)\n",
    "\n",
    "    results.append({\n",
    "        \"fold\": fold,\n",
    "        \"accuracy\": val_acc,\n",
    "        \"precision\": precision,\n",
    "        \"recall\": recall,\n",
    "        \"confusion_matrix\": cm\n",
    "    })\n"
   ]
  },
  {
   "cell_type": "code",
   "execution_count": null,
   "id": "08b0a19b",
   "metadata": {},
   "outputs": [],
   "source": [
    "# Podsumowanie\n",
    "for res in results:\n",
    "    print(f\"\\nFold {res['fold']}:\")\n",
    "    print(f\"Accuracy: {res['accuracy']:.4f}\")\n",
    "    print(f\"Precision: {res['precision']:.4f}\")\n",
    "    print(f\"Recall: {res['recall']:.4f}\")\n",
    "    print(f\"Confusion Matrix:\\n{res['confusion_matrix']}\")"
   ]
  },
  {
   "cell_type": "markdown",
   "id": "a86f91c4b2cedcfa",
   "metadata": {
    "collapsed": false
   },
   "source": []
  }
 ],
 "metadata": {
  "kernelspec": {
   "display_name": "Python 3",
   "language": "python",
   "name": "python3"
  },
  "language_info": {
   "codemirror_mode": {
    "name": "ipython",
    "version": 3
   },
   "file_extension": ".py",
   "mimetype": "text/x-python",
   "name": "python",
   "nbconvert_exporter": "python",
   "pygments_lexer": "ipython3",
   "version": "3.10.0"
  }
 },
 "nbformat": 4,
 "nbformat_minor": 5
}
