{
 "cells": [
  {
   "cell_type": "code",
   "execution_count": 1,
   "id": "initial_id",
   "metadata": {
    "ExecuteTime": {
     "end_time": "2025-05-05T19:03:42.232090Z",
     "start_time": "2025-05-05T19:03:42.225156Z"
    },
    "collapsed": true
   },
   "outputs": [],
   "source": [
    "import numpy as np\n",
    "import pandas as pd\n",
    "import matplotlib.pyplot as plt\n",
    "import seaborn as sns\n",
    "from sklearn.feature_extraction.text import TfidfVectorizer\n",
    "from sklearn.model_selection import cross_validate\n",
    "from sklearn.metrics import make_scorer, precision_score, recall_score, f1_score, accuracy_score"
   ]
  },
  {
   "cell_type": "code",
   "execution_count": 2,
   "id": "4ca8407e36490c18",
   "metadata": {
    "ExecuteTime": {
     "end_time": "2025-05-05T19:03:43.031639Z",
     "start_time": "2025-05-05T19:03:42.377562Z"
    },
    "collapsed": false
   },
   "outputs": [],
   "source": [
    "sentiment_dataset = pd.read_csv(\"Sentiment140_filtered.csv\")"
   ]
  },
  {
   "cell_type": "code",
   "execution_count": 3,
   "id": "2f1dd2dbdf041af7",
   "metadata": {
    "ExecuteTime": {
     "end_time": "2025-05-05T19:03:43.054820Z",
     "start_time": "2025-05-05T19:03:43.035755Z"
    },
    "collapsed": false
   },
   "outputs": [
    {
     "data": {
      "text/html": [
       "<div>\n",
       "<style scoped>\n",
       "    .dataframe tbody tr th:only-of-type {\n",
       "        vertical-align: middle;\n",
       "    }\n",
       "\n",
       "    .dataframe tbody tr th {\n",
       "        vertical-align: top;\n",
       "    }\n",
       "\n",
       "    .dataframe thead th {\n",
       "        text-align: right;\n",
       "    }\n",
       "</style>\n",
       "<table border=\"1\" class=\"dataframe\">\n",
       "  <thead>\n",
       "    <tr style=\"text-align: right;\">\n",
       "      <th></th>\n",
       "      <th>Unnamed: 0</th>\n",
       "      <th>target</th>\n",
       "      <th>ids</th>\n",
       "      <th>date</th>\n",
       "      <th>flag</th>\n",
       "      <th>user</th>\n",
       "      <th>text</th>\n",
       "      <th>hate_pred</th>\n",
       "    </tr>\n",
       "  </thead>\n",
       "  <tbody>\n",
       "    <tr>\n",
       "      <th>0</th>\n",
       "      <td>750</td>\n",
       "      <td>0</td>\n",
       "      <td>1467998601</td>\n",
       "      <td>Mon Apr 06 23:11:18 PDT 2009</td>\n",
       "      <td>NO_QUERY</td>\n",
       "      <td>Young_J</td>\n",
       "      <td>I'm off too bed. I gotta wake up hella early t...</td>\n",
       "      <td>1</td>\n",
       "    </tr>\n",
       "    <tr>\n",
       "      <th>1</th>\n",
       "      <td>766711</td>\n",
       "      <td>0</td>\n",
       "      <td>2300049112</td>\n",
       "      <td>Tue Jun 23 13:40:12 PDT 2009</td>\n",
       "      <td>NO_QUERY</td>\n",
       "      <td>dougnawoschik</td>\n",
       "      <td>I havent been able to listen to it yet  My spe...</td>\n",
       "      <td>1</td>\n",
       "    </tr>\n",
       "    <tr>\n",
       "      <th>2</th>\n",
       "      <td>285055</td>\n",
       "      <td>0</td>\n",
       "      <td>1993474319</td>\n",
       "      <td>Mon Jun 01 10:26:09 PDT 2009</td>\n",
       "      <td>NO_QUERY</td>\n",
       "      <td>thireven</td>\n",
       "      <td>now remembers why solving a relatively big equ...</td>\n",
       "      <td>1</td>\n",
       "    </tr>\n",
       "    <tr>\n",
       "      <th>3</th>\n",
       "      <td>705995</td>\n",
       "      <td>0</td>\n",
       "      <td>2256551006</td>\n",
       "      <td>Sat Jun 20 12:56:51 PDT 2009</td>\n",
       "      <td>NO_QUERY</td>\n",
       "      <td>taracollins086</td>\n",
       "      <td>Ate too much, feel sick</td>\n",
       "      <td>1</td>\n",
       "    </tr>\n",
       "    <tr>\n",
       "      <th>4</th>\n",
       "      <td>379611</td>\n",
       "      <td>0</td>\n",
       "      <td>2052381070</td>\n",
       "      <td>Sat Jun 06 00:32:23 PDT 2009</td>\n",
       "      <td>NO_QUERY</td>\n",
       "      <td>Portablemonkey</td>\n",
       "      <td>Tried to purchase a parked domain through GoDa...</td>\n",
       "      <td>1</td>\n",
       "    </tr>\n",
       "  </tbody>\n",
       "</table>\n",
       "</div>"
      ],
      "text/plain": [
       "   Unnamed: 0  target         ids                          date      flag  \\\n",
       "0         750       0  1467998601  Mon Apr 06 23:11:18 PDT 2009  NO_QUERY   \n",
       "1      766711       0  2300049112  Tue Jun 23 13:40:12 PDT 2009  NO_QUERY   \n",
       "2      285055       0  1993474319  Mon Jun 01 10:26:09 PDT 2009  NO_QUERY   \n",
       "3      705995       0  2256551006  Sat Jun 20 12:56:51 PDT 2009  NO_QUERY   \n",
       "4      379611       0  2052381070  Sat Jun 06 00:32:23 PDT 2009  NO_QUERY   \n",
       "\n",
       "             user                                               text  \\\n",
       "0         Young_J  I'm off too bed. I gotta wake up hella early t...   \n",
       "1   dougnawoschik  I havent been able to listen to it yet  My spe...   \n",
       "2        thireven  now remembers why solving a relatively big equ...   \n",
       "3  taracollins086                           Ate too much, feel sick    \n",
       "4  Portablemonkey  Tried to purchase a parked domain through GoDa...   \n",
       "\n",
       "   hate_pred  \n",
       "0          1  \n",
       "1          1  \n",
       "2          1  \n",
       "3          1  \n",
       "4          1  "
      ]
     },
     "execution_count": 3,
     "metadata": {},
     "output_type": "execute_result"
    }
   ],
   "source": [
    "sentiment_dataset.head()"
   ]
  },
  {
   "cell_type": "code",
   "execution_count": 4,
   "id": "cd33133fa12ada83",
   "metadata": {
    "ExecuteTime": {
     "end_time": "2025-05-05T19:03:43.111062Z",
     "start_time": "2025-05-05T19:03:43.057789Z"
    },
    "collapsed": false
   },
   "outputs": [
    {
     "data": {
      "text/plain": [
       "Unnamed: 0    0\n",
       "target        0\n",
       "ids           0\n",
       "date          0\n",
       "flag          0\n",
       "user          0\n",
       "text          0\n",
       "hate_pred     0\n",
       "dtype: int64"
      ]
     },
     "execution_count": 4,
     "metadata": {},
     "output_type": "execute_result"
    }
   ],
   "source": [
    "sentiment_dataset.isnull().sum()"
   ]
  },
  {
   "cell_type": "code",
   "execution_count": 5,
   "id": "208569a0a3f56969",
   "metadata": {
    "ExecuteTime": {
     "end_time": "2025-05-05T19:03:44.324172Z",
     "start_time": "2025-05-05T19:03:43.115098Z"
    },
    "collapsed": false
   },
   "outputs": [
    {
     "data": {
      "text/plain": [
       "<seaborn.axisgrid.FacetGrid at 0x200b0f61cf0>"
      ]
     },
     "execution_count": 5,
     "metadata": {},
     "output_type": "execute_result"
    },
    {
     "data": {
      "image/png": "[encoded data removed]",
      "text/plain": [
       "<Figure size 368x360 with 1 Axes>"
      ]
     },
     "metadata": {
      "needs_background": "light"
     },
     "output_type": "display_data"
    }
   ],
   "source": [
    "sns.catplot(x = 'target', data = sentiment_dataset, kind = 'count')\n"
   ]
  },
  {
   "cell_type": "code",
   "execution_count": 6,
   "id": "5f9664a800f1f89",
   "metadata": {
    "ExecuteTime": {
     "end_time": "2025-05-05T19:03:44.952077Z",
     "start_time": "2025-05-05T19:03:44.327161Z"
    },
    "collapsed": false
   },
   "outputs": [],
   "source": [
    "hateful_dataset = pd.read_csv(\"hateful_sentiment.csv\")"
   ]
  },
  {
   "cell_type": "code",
   "execution_count": 7,
   "id": "dca7580ded022803",
   "metadata": {
    "ExecuteTime": {
     "end_time": "2025-05-05T19:03:44.973001Z",
     "start_time": "2025-05-05T19:03:44.954211Z"
    },
    "collapsed": false
   },
   "outputs": [
    {
     "data": {
      "text/html": [
       "<div>\n",
       "<style scoped>\n",
       "    .dataframe tbody tr th:only-of-type {\n",
       "        vertical-align: middle;\n",
       "    }\n",
       "\n",
       "    .dataframe tbody tr th {\n",
       "        vertical-align: top;\n",
       "    }\n",
       "\n",
       "    .dataframe thead th {\n",
       "        text-align: right;\n",
       "    }\n",
       "</style>\n",
       "<table border=\"1\" class=\"dataframe\">\n",
       "  <thead>\n",
       "    <tr style=\"text-align: right;\">\n",
       "      <th></th>\n",
       "      <th>Content</th>\n",
       "      <th>Label</th>\n",
       "      <th>Content_int</th>\n",
       "    </tr>\n",
       "  </thead>\n",
       "  <tbody>\n",
       "    <tr>\n",
       "      <th>0</th>\n",
       "      <td>retweet to the rejects who constantly call my ...</td>\n",
       "      <td>1</td>\n",
       "      <td>[146715, 1761, 7, 3, 22587, 67, 6768, 472, 129...</td>\n",
       "    </tr>\n",
       "    <tr>\n",
       "      <th>1</th>\n",
       "      <td>i purpose that whatever attack everyone who ca...</td>\n",
       "      <td>1</td>\n",
       "      <td>[146715, 80, 4226, 28, 220, 1347, 1568, 67, 65...</td>\n",
       "    </tr>\n",
       "    <tr>\n",
       "      <th>2</th>\n",
       "      <td>are you fucking kidding me you deserve to fuck...</td>\n",
       "      <td>1</td>\n",
       "      <td>[146715, 154, 26, 69, 1361, 78, 26, 6610, 7, 6...</td>\n",
       "    </tr>\n",
       "    <tr>\n",
       "      <th>3</th>\n",
       "      <td>retweet i am not racist and i am not sexist i ...</td>\n",
       "      <td>1</td>\n",
       "      <td>[146715, 1761, 80, 81, 76, 1723, 111, 80, 81, ...</td>\n",
       "    </tr>\n",
       "    <tr>\n",
       "      <th>4</th>\n",
       "      <td>just imagine if the two million spent on the s...</td>\n",
       "      <td>1</td>\n",
       "      <td>[146715, 14, 925, 204, 3, 672, 462, 5271, 9, 3...</td>\n",
       "    </tr>\n",
       "  </tbody>\n",
       "</table>\n",
       "</div>"
      ],
      "text/plain": [
       "                                             Content  Label  \\\n",
       "0  retweet to the rejects who constantly call my ...      1   \n",
       "1  i purpose that whatever attack everyone who ca...      1   \n",
       "2  are you fucking kidding me you deserve to fuck...      1   \n",
       "3  retweet i am not racist and i am not sexist i ...      1   \n",
       "4  just imagine if the two million spent on the s...      1   \n",
       "\n",
       "                                         Content_int  \n",
       "0  [146715, 1761, 7, 3, 22587, 67, 6768, 472, 129...  \n",
       "1  [146715, 80, 4226, 28, 220, 1347, 1568, 67, 65...  \n",
       "2  [146715, 154, 26, 69, 1361, 78, 26, 6610, 7, 6...  \n",
       "3  [146715, 1761, 80, 81, 76, 1723, 111, 80, 81, ...  \n",
       "4  [146715, 14, 925, 204, 3, 672, 462, 5271, 9, 3...  "
      ]
     },
     "execution_count": 7,
     "metadata": {},
     "output_type": "execute_result"
    }
   ],
   "source": [
    "hateful_dataset.head()"
   ]
  },
  {
   "cell_type": "code",
   "execution_count": 8,
   "id": "ddef1585ba2ee1be",
   "metadata": {
    "ExecuteTime": {
     "end_time": "2025-05-05T19:03:45.037986Z",
     "start_time": "2025-05-05T19:03:44.980846Z"
    },
    "collapsed": false
   },
   "outputs": [
    {
     "data": {
      "text/html": [
       "<div>\n",
       "<style scoped>\n",
       "    .dataframe tbody tr th:only-of-type {\n",
       "        vertical-align: middle;\n",
       "    }\n",
       "\n",
       "    .dataframe tbody tr th {\n",
       "        vertical-align: top;\n",
       "    }\n",
       "\n",
       "    .dataframe thead th {\n",
       "        text-align: right;\n",
       "    }\n",
       "</style>\n",
       "<table border=\"1\" class=\"dataframe\">\n",
       "  <thead>\n",
       "    <tr style=\"text-align: right;\">\n",
       "      <th></th>\n",
       "      <th>text</th>\n",
       "      <th>target</th>\n",
       "    </tr>\n",
       "  </thead>\n",
       "  <tbody>\n",
       "    <tr>\n",
       "      <th>0</th>\n",
       "      <td>retweet to the rejects who constantly call my ...</td>\n",
       "      <td>2</td>\n",
       "    </tr>\n",
       "    <tr>\n",
       "      <th>1</th>\n",
       "      <td>i purpose that whatever attack everyone who ca...</td>\n",
       "      <td>2</td>\n",
       "    </tr>\n",
       "    <tr>\n",
       "      <th>2</th>\n",
       "      <td>are you fucking kidding me you deserve to fuck...</td>\n",
       "      <td>2</td>\n",
       "    </tr>\n",
       "    <tr>\n",
       "      <th>3</th>\n",
       "      <td>retweet i am not racist and i am not sexist i ...</td>\n",
       "      <td>2</td>\n",
       "    </tr>\n",
       "    <tr>\n",
       "      <th>4</th>\n",
       "      <td>just imagine if the two million spent on the s...</td>\n",
       "      <td>2</td>\n",
       "    </tr>\n",
       "  </tbody>\n",
       "</table>\n",
       "</div>"
      ],
      "text/plain": [
       "                                                text  target\n",
       "0  retweet to the rejects who constantly call my ...       2\n",
       "1  i purpose that whatever attack everyone who ca...       2\n",
       "2  are you fucking kidding me you deserve to fuck...       2\n",
       "3  retweet i am not racist and i am not sexist i ...       2\n",
       "4  just imagine if the two million spent on the s...       2"
      ]
     },
     "execution_count": 8,
     "metadata": {},
     "output_type": "execute_result"
    }
   ],
   "source": [
    "hateful_dataset = hateful_dataset[[\"Content\", \"Label\"]]\n",
    "hateful_dataset = hateful_dataset.rename(columns = {\"Content\": \"text\", \"Label\": \"target\"})\n",
    "hateful_dataset[\"target\"] = 2\n",
    "\n",
    "hateful_dataset.head()"
   ]
  },
  {
   "cell_type": "code",
   "execution_count": 9,
   "id": "7cf15d9e9a5a3600",
   "metadata": {
    "ExecuteTime": {
     "end_time": "2025-05-05T19:03:45.070750Z",
     "start_time": "2025-05-05T19:03:45.047991Z"
    },
    "collapsed": false
   },
   "outputs": [
    {
     "data": {
      "text/html": [
       "<div>\n",
       "<style scoped>\n",
       "    .dataframe tbody tr th:only-of-type {\n",
       "        vertical-align: middle;\n",
       "    }\n",
       "\n",
       "    .dataframe tbody tr th {\n",
       "        vertical-align: top;\n",
       "    }\n",
       "\n",
       "    .dataframe thead th {\n",
       "        text-align: right;\n",
       "    }\n",
       "</style>\n",
       "<table border=\"1\" class=\"dataframe\">\n",
       "  <thead>\n",
       "    <tr style=\"text-align: right;\">\n",
       "      <th></th>\n",
       "      <th>text</th>\n",
       "      <th>target</th>\n",
       "    </tr>\n",
       "  </thead>\n",
       "  <tbody>\n",
       "    <tr>\n",
       "      <th>0</th>\n",
       "      <td>I'm off too bed. I gotta wake up hella early t...</td>\n",
       "      <td>0</td>\n",
       "    </tr>\n",
       "    <tr>\n",
       "      <th>1</th>\n",
       "      <td>I havent been able to listen to it yet  My spe...</td>\n",
       "      <td>0</td>\n",
       "    </tr>\n",
       "    <tr>\n",
       "      <th>2</th>\n",
       "      <td>now remembers why solving a relatively big equ...</td>\n",
       "      <td>0</td>\n",
       "    </tr>\n",
       "    <tr>\n",
       "      <th>3</th>\n",
       "      <td>Ate too much, feel sick</td>\n",
       "      <td>0</td>\n",
       "    </tr>\n",
       "    <tr>\n",
       "      <th>4</th>\n",
       "      <td>Tried to purchase a parked domain through GoDa...</td>\n",
       "      <td>0</td>\n",
       "    </tr>\n",
       "  </tbody>\n",
       "</table>\n",
       "</div>"
      ],
      "text/plain": [
       "                                                text  target\n",
       "0  I'm off too bed. I gotta wake up hella early t...       0\n",
       "1  I havent been able to listen to it yet  My spe...       0\n",
       "2  now remembers why solving a relatively big equ...       0\n",
       "3                           Ate too much, feel sick        0\n",
       "4  Tried to purchase a parked domain through GoDa...       0"
      ]
     },
     "execution_count": 9,
     "metadata": {},
     "output_type": "execute_result"
    }
   ],
   "source": [
    "sentiment_dataset = sentiment_dataset[[\"text\", \"target\"]]\n",
    "sentiment_dataset.head()"
   ]
  },
  {
   "cell_type": "code",
   "execution_count": null,
   "id": "31e3b42f03ddd961",
   "metadata": {
    "ExecuteTime": {
     "end_time": "2025-05-05T19:03:45.088610Z",
     "start_time": "2025-05-05T19:03:45.072768Z"
    },
    "collapsed": false
   },
   "outputs": [],
   "source": [
    "sentiment_dataset.loc[sentiment_dataset['target']==4, 'target'] = 1\n",
    "sentiment_dataset.loc[sentiment_dataset['target']==0, 'target'] = 0\n",
    "# 0 - negative, 1 - positive, 2 - hateful"
   ]
  },
  {
   "cell_type": "code",
   "execution_count": 11,
   "id": "fd985d4d7970574c",
   "metadata": {
    "ExecuteTime": {
     "end_time": "2025-05-05T19:03:45.110965Z",
     "start_time": "2025-05-05T19:03:45.094599Z"
    },
    "collapsed": false
   },
   "outputs": [],
   "source": [
    "sentiment_dataset = pd.concat([sentiment_dataset, hateful_dataset], ignore_index= True)"
   ]
  },
  {
   "cell_type": "code",
   "execution_count": 12,
   "id": "75755888f98893f0",
   "metadata": {
    "ExecuteTime": {
     "end_time": "2025-05-05T19:03:45.161646Z",
     "start_time": "2025-05-05T19:03:45.121940Z"
    },
    "collapsed": false
   },
   "outputs": [
    {
     "data": {
      "text/html": [
       "<div>\n",
       "<style scoped>\n",
       "    .dataframe tbody tr th:only-of-type {\n",
       "        vertical-align: middle;\n",
       "    }\n",
       "\n",
       "    .dataframe tbody tr th {\n",
       "        vertical-align: top;\n",
       "    }\n",
       "\n",
       "    .dataframe thead th {\n",
       "        text-align: right;\n",
       "    }\n",
       "</style>\n",
       "<table border=\"1\" class=\"dataframe\">\n",
       "  <thead>\n",
       "    <tr style=\"text-align: right;\">\n",
       "      <th></th>\n",
       "      <th>text</th>\n",
       "      <th>target</th>\n",
       "    </tr>\n",
       "  </thead>\n",
       "  <tbody>\n",
       "    <tr>\n",
       "      <th>0</th>\n",
       "      <td>I'm off too bed. I gotta wake up hella early t...</td>\n",
       "      <td>0</td>\n",
       "    </tr>\n",
       "    <tr>\n",
       "      <th>1</th>\n",
       "      <td>I havent been able to listen to it yet  My spe...</td>\n",
       "      <td>0</td>\n",
       "    </tr>\n",
       "    <tr>\n",
       "      <th>2</th>\n",
       "      <td>now remembers why solving a relatively big equ...</td>\n",
       "      <td>0</td>\n",
       "    </tr>\n",
       "    <tr>\n",
       "      <th>3</th>\n",
       "      <td>Ate too much, feel sick</td>\n",
       "      <td>0</td>\n",
       "    </tr>\n",
       "    <tr>\n",
       "      <th>4</th>\n",
       "      <td>Tried to purchase a parked domain through GoDa...</td>\n",
       "      <td>0</td>\n",
       "    </tr>\n",
       "  </tbody>\n",
       "</table>\n",
       "</div>"
      ],
      "text/plain": [
       "                                                text  target\n",
       "0  I'm off too bed. I gotta wake up hella early t...       0\n",
       "1  I havent been able to listen to it yet  My spe...       0\n",
       "2  now remembers why solving a relatively big equ...       0\n",
       "3                           Ate too much, feel sick        0\n",
       "4  Tried to purchase a parked domain through GoDa...       0"
      ]
     },
     "execution_count": 12,
     "metadata": {},
     "output_type": "execute_result"
    }
   ],
   "source": [
    "sentiment_dataset.head()"
   ]
  },
  {
   "cell_type": "code",
   "execution_count": 13,
   "id": "85cfba99464a218f",
   "metadata": {
    "ExecuteTime": {
     "end_time": "2025-05-05T19:03:46.419934Z",
     "start_time": "2025-05-05T19:03:45.166665Z"
    },
    "collapsed": false
   },
   "outputs": [
    {
     "data": {
      "text/plain": [
       "<seaborn.axisgrid.FacetGrid at 0x200d390cd90>"
      ]
     },
     "execution_count": 13,
     "metadata": {},
     "output_type": "execute_result"
    },
    {
     "data": {
      "image/png": "[encoded data removed]",
      "text/plain": [
       "<Figure size 368x360 with 1 Axes>"
      ]
     },
     "metadata": {
      "needs_background": "light"
     },
     "output_type": "display_data"
    }
   ],
   "source": [
    "sns.catplot(x = 'target', data = sentiment_dataset, kind = 'count')"
   ]
  },
  {
   "cell_type": "code",
   "execution_count": 14,
   "id": "f5b1624ea8418ce2",
   "metadata": {
    "ExecuteTime": {
     "end_time": "2025-05-05T19:03:46.432913Z",
     "start_time": "2025-05-05T19:03:46.420928Z"
    },
    "collapsed": false
   },
   "outputs": [
    {
     "data": {
      "text/plain": [
       "target\n",
       "2    60000\n",
       "1    59700\n",
       "0    59300\n",
       "Name: count, dtype: int64"
      ]
     },
     "execution_count": 14,
     "metadata": {},
     "output_type": "execute_result"
    }
   ],
   "source": [
    "sentiment_dataset['target'].value_counts()"
   ]
  },
  {
   "cell_type": "code",
   "execution_count": 15,
   "id": "22103dab73e41832",
   "metadata": {
    "ExecuteTime": {
     "end_time": "2025-05-05T19:03:46.456931Z",
     "start_time": "2025-05-05T19:03:46.434907Z"
    },
    "collapsed": false
   },
   "outputs": [
    {
     "data": {
      "text/plain": [
       "text      0\n",
       "target    0\n",
       "dtype: int64"
      ]
     },
     "execution_count": 15,
     "metadata": {},
     "output_type": "execute_result"
    }
   ],
   "source": [
    "sentiment_dataset.isnull().sum()"
   ]
  },
  {
   "cell_type": "code",
   "execution_count": 16,
   "id": "5fffbbcd",
   "metadata": {},
   "outputs": [],
   "source": [
    "X = sentiment_dataset['text']\n",
    "y = sentiment_dataset['target']"
   ]
  },
  {
   "cell_type": "markdown",
   "id": "d863186d38fc8049",
   "metadata": {
    "collapsed": false
   },
   "source": [
    "CNN"
   ]
  },
  {
   "cell_type": "code",
   "execution_count": 17,
   "id": "c4544912",
   "metadata": {},
   "outputs": [],
   "source": [
    "import torch\n",
    "import torch.nn as nn\n",
    "import torch.optim as optim\n",
    "from torch.utils.data import Dataset, DataLoader\n",
    "from sklearn.model_selection import train_test_split\n",
    "from sklearn.preprocessing import LabelEncoder\n",
    "from torch.nn.utils.rnn import pad_sequence\n",
    "from collections import Counter\n",
    "import re\n",
    "from sklearn.model_selection import StratifiedKFold\n",
    "from sklearn.metrics import accuracy_score, precision_score, recall_score, f1_score, confusion_matrix\n",
    "import torch\n",
    "from torch.utils.data import DataLoader, Subset\n",
    "import numpy as np\n",
    "import matplotlib.pyplot as plt\n",
    "import seaborn as sns"
   ]
  },
  {
   "cell_type": "code",
   "execution_count": 18,
   "id": "2c05dd93",
   "metadata": {},
   "outputs": [],
   "source": [
    "# Tokenizacja i czyszczenie tekstu\n",
    "def tokenize(text):\n",
    "    text = text.lower()\n",
    "    text = re.sub(r\"[^a-zA-Z0-9\\s]\", \"\", text)\n",
    "    return text.split()\n",
    "\n",
    "# Tworzenie słownika\n",
    "all_tokens = [token for text in sentiment_dataset['text'] for token in tokenize(text)]\n",
    "vocab = {word: i+2 for i, (word, _) in enumerate(Counter(all_tokens).most_common(10000))}\n",
    "vocab['<PAD>'] = 0\n",
    "vocab['<UNK>'] = 1\n",
    "\n",
    "def encode(text):\n",
    "    return [vocab.get(token, 1) for token in tokenize(text)]"
   ]
  },
  {
   "cell_type": "code",
   "execution_count": 19,
   "id": "86341b33",
   "metadata": {},
   "outputs": [],
   "source": [
    "# Dataset PyTorch\n",
    "class TextDataset(Dataset):\n",
    "    def __init__(self, texts, labels):\n",
    "        self.texts = [torch.tensor(encode(text)) for text in texts]\n",
    "        self.labels = torch.tensor(labels, dtype=torch.long)\n",
    "\n",
    "    def __len__(self):\n",
    "        return len(self.labels)\n",
    "\n",
    "    def __getitem__(self, idx):\n",
    "        return self.texts[idx], self.labels[idx]\n",
    "\n",
    "# Padding collate function\n",
    "def collate_fn(batch):\n",
    "    texts, labels = zip(*batch)\n",
    "    texts_padded = pad_sequence(texts, batch_first=True, padding_value=0)\n",
    "    return texts_padded, torch.tensor(labels)"
   ]
  },
  {
   "cell_type": "code",
   "execution_count": 20,
   "id": "3311ced4",
   "metadata": {},
   "outputs": [],
   "source": [
    "# # Podział na zbiory\n",
    "# X_train, X_val, y_train, y_val = train_test_split(sentiment_dataset['text'], sentiment_dataset['target'], test_size=0.2, stratify=sentiment_dataset['target'])\n",
    "\n",
    "# train_dataset = TextDataset(X_train.tolist(), y_train.tolist())\n",
    "# val_dataset = TextDataset(X_val.tolist(), y_val.tolist())\n",
    "\n",
    "# train_loader = DataLoader(train_dataset, batch_size=64, shuffle=True, collate_fn=collate_fn)\n",
    "# val_loader = DataLoader(val_dataset, batch_size=64, shuffle=False, collate_fn=collate_fn)"
   ]
  },
  {
   "cell_type": "code",
   "execution_count": 21,
   "id": "fed32421",
   "metadata": {},
   "outputs": [],
   "source": [
    "# Model CNN\n",
    "class TextCNN(nn.Module):\n",
    "    def __init__(self, vocab_size, embed_dim, num_classes):\n",
    "        super(TextCNN, self).__init__()\n",
    "        self.embedding = nn.Embedding(vocab_size, embed_dim, padding_idx=0)\n",
    "        self.conv1 = nn.Conv1d(embed_dim, 100, kernel_size=3)\n",
    "        self.relu = nn.ReLU()\n",
    "        self.pool = nn.AdaptiveMaxPool1d(1)\n",
    "        self.fc = nn.Linear(100, num_classes)\n",
    "\n",
    "    def forward(self, x):\n",
    "        x = self.embedding(x)  # (batch, seq_len, embed_dim)\n",
    "        x = x.permute(0, 2, 1)  # (batch, embed_dim, seq_len)\n",
    "        x = self.relu(self.conv1(x))  # (batch, 100, seq_len-2)\n",
    "        x = self.pool(x).squeeze(2)  # (batch, 100)\n",
    "        return self.fc(x)"
   ]
  },
  {
   "cell_type": "code",
   "execution_count": 22,
   "id": "164d651f",
   "metadata": {},
   "outputs": [],
   "source": [
    "# Parametry\n",
    "epochs = 10\n",
    "device = torch.device(\"cuda\" if torch.cuda.is_available() else \"cpu\")\n",
    "model = TextCNN(vocab_size=len(vocab), embed_dim=100, num_classes=3).to(device)\n",
    "criterion = nn.CrossEntropyLoss()\n",
    "learning_rate = 1e-3\n",
    "optimizer = optim.Adam(model.parameters(), lr=learning_rate)"
   ]
  },
  {
   "cell_type": "code",
   "execution_count": 23,
   "id": "eac5900a",
   "metadata": {},
   "outputs": [
    {
     "name": "stdout",
     "output_type": "stream",
     "text": [
      "Training fold 1/5...\n",
      "Epoch 1/10 - Loss: 0.5209 - Accuracy: 0.7643\n",
      "Epoch 2/10 - Loss: 0.3839 - Accuracy: 0.8316\n",
      "Epoch 3/10 - Loss: 0.3292 - Accuracy: 0.8571\n",
      "Epoch 4/10 - Loss: 0.2867 - Accuracy: 0.8782\n",
      "Epoch 5/10 - Loss: 0.2466 - Accuracy: 0.8977\n",
      "Epoch 6/10 - Loss: 0.2072 - Accuracy: 0.9171\n",
      "Epoch 7/10 - Loss: 0.1697 - Accuracy: 0.9338\n",
      "Epoch 8/10 - Loss: 0.1392 - Accuracy: 0.9471\n",
      "Epoch 9/10 - Loss: 0.1104 - Accuracy: 0.9588\n",
      "Epoch 10/10 - Loss: 0.0895 - Accuracy: 0.9666\n",
      "Training fold 2/5...\n",
      "Epoch 1/10 - Loss: 0.5196 - Accuracy: 0.7642\n",
      "Epoch 2/10 - Loss: 0.3816 - Accuracy: 0.8332\n",
      "Epoch 3/10 - Loss: 0.3283 - Accuracy: 0.8595\n",
      "Epoch 4/10 - Loss: 0.2849 - Accuracy: 0.8797\n",
      "Epoch 5/10 - Loss: 0.2447 - Accuracy: 0.8992\n",
      "Epoch 6/10 - Loss: 0.2061 - Accuracy: 0.9174\n",
      "Epoch 7/10 - Loss: 0.1691 - Accuracy: 0.9342\n",
      "Epoch 8/10 - Loss: 0.1388 - Accuracy: 0.9473\n",
      "Epoch 9/10 - Loss: 0.1119 - Accuracy: 0.9586\n",
      "Epoch 10/10 - Loss: 0.0890 - Accuracy: 0.9672\n",
      "Training fold 3/5...\n",
      "Epoch 1/10 - Loss: 0.5187 - Accuracy: 0.7644\n",
      "Epoch 2/10 - Loss: 0.3831 - Accuracy: 0.8327\n",
      "Epoch 3/10 - Loss: 0.3305 - Accuracy: 0.8576\n",
      "Epoch 4/10 - Loss: 0.2873 - Accuracy: 0.8788\n",
      "Epoch 5/10 - Loss: 0.2489 - Accuracy: 0.8962\n",
      "Epoch 6/10 - Loss: 0.2097 - Accuracy: 0.9157\n",
      "Epoch 7/10 - Loss: 0.1750 - Accuracy: 0.9309\n",
      "Epoch 8/10 - Loss: 0.1418 - Accuracy: 0.9455\n",
      "Epoch 9/10 - Loss: 0.1143 - Accuracy: 0.9572\n",
      "Epoch 10/10 - Loss: 0.0919 - Accuracy: 0.9664\n",
      "Training fold 4/5...\n",
      "Epoch 1/10 - Loss: 0.5235 - Accuracy: 0.7627\n",
      "Epoch 2/10 - Loss: 0.3841 - Accuracy: 0.8318\n",
      "Epoch 3/10 - Loss: 0.3297 - Accuracy: 0.8587\n",
      "Epoch 4/10 - Loss: 0.2887 - Accuracy: 0.8773\n",
      "Epoch 5/10 - Loss: 0.2506 - Accuracy: 0.8958\n",
      "Epoch 6/10 - Loss: 0.2115 - Accuracy: 0.9143\n",
      "Epoch 7/10 - Loss: 0.1763 - Accuracy: 0.9306\n",
      "Epoch 8/10 - Loss: 0.1416 - Accuracy: 0.9460\n",
      "Epoch 9/10 - Loss: 0.1154 - Accuracy: 0.9567\n",
      "Epoch 10/10 - Loss: 0.0930 - Accuracy: 0.9656\n",
      "Training fold 5/5...\n",
      "Epoch 1/10 - Loss: 0.5224 - Accuracy: 0.7639\n",
      "Epoch 2/10 - Loss: 0.3842 - Accuracy: 0.8320\n",
      "Epoch 3/10 - Loss: 0.3303 - Accuracy: 0.8585\n",
      "Epoch 4/10 - Loss: 0.2884 - Accuracy: 0.8784\n",
      "Epoch 5/10 - Loss: 0.2482 - Accuracy: 0.8973\n",
      "Epoch 6/10 - Loss: 0.2104 - Accuracy: 0.9155\n",
      "Epoch 7/10 - Loss: 0.1741 - Accuracy: 0.9318\n",
      "Epoch 8/10 - Loss: 0.1415 - Accuracy: 0.9464\n",
      "Epoch 9/10 - Loss: 0.1145 - Accuracy: 0.9574\n",
      "Epoch 10/10 - Loss: 0.0930 - Accuracy: 0.9662\n",
      "   fold  accuracy  precision    recall        f1  \\\n",
      "0     1  0.800391   0.799804  0.800391  0.799113   \n",
      "1     2  0.800670   0.802010  0.800670  0.801001   \n",
      "2     3  0.801285   0.801640  0.801285  0.799905   \n",
      "3     4  0.799749   0.803048  0.799749  0.800331   \n",
      "4     5  0.805726   0.807162  0.805726  0.806406   \n",
      "\n",
      "                                    confusion_matrix  \n",
      "0  [[8066, 3410, 384], [2418, 9084, 438], [205, 2...  \n",
      "1  [[8340, 3291, 229], [2677, 8975, 288], [288, 3...  \n",
      "2  [[7926, 3524, 410], [2325, 9251, 364], [170, 3...  \n",
      "3  [[9188, 2463, 209], [3538, 8175, 227], [380, 3...  \n",
      "4  [[8732, 2900, 228], [2966, 8767, 207], [297, 3...  \n"
     ]
    },
    {
     "data": {
      "image/png": "[encoded data removed]",
      "text/plain": [
       "<Figure size 432x288 with 2 Axes>"
      ]
     },
     "metadata": {
      "needs_background": "light"
     },
     "output_type": "display_data"
    }
   ],
   "source": [
    "from sklearn.model_selection import StratifiedKFold\n",
    "from sklearn.metrics import accuracy_score, precision_score, recall_score, f1_score, confusion_matrix\n",
    "import torch\n",
    "import torch.optim as optim\n",
    "import torch.nn as nn\n",
    "from torch.utils.data import DataLoader\n",
    "import numpy as np\n",
    "\n",
    "# StratifiedKFold do podziału na 5 foldów\n",
    "kf = StratifiedKFold(n_splits=5, shuffle=True, random_state=42)\n",
    "\n",
    "# Lista do przechowywania wyników\n",
    "results = []\n",
    "\n",
    "# Funkcja ewaluacji modelu\n",
    "def evaluate_model(model, val_loader):\n",
    "    model.eval()  # Ustawienie modelu w tryb ewaluacji\n",
    "    true_labels = []\n",
    "    pred_labels = []\n",
    "    \n",
    "    with torch.no_grad():  # Bez obliczania gradientów\n",
    "        for inputs, labels in val_loader:\n",
    "            inputs, labels = inputs.to(device), labels.to(device)\n",
    "            outputs = model(inputs)\n",
    "            _, preds = torch.max(outputs, 1)\n",
    "            true_labels.extend(labels.cpu().numpy())\n",
    "            pred_labels.extend(preds.cpu().numpy())\n",
    "    \n",
    "    return true_labels, pred_labels\n",
    "\n",
    "# Funkcja trenowania modelu z wyświetlaniem accur i loss po każdej epoce\n",
    "def train_model(model, train_loader, criterion, optimizer, epochs=10):\n",
    "    model.train()\n",
    "    for epoch in range(epochs):\n",
    "        running_loss = 0.0\n",
    "        correct_preds = 0\n",
    "        total_preds = 0\n",
    "        \n",
    "        for inputs, labels in train_loader:\n",
    "            inputs, labels = inputs.to(device), labels.to(device)\n",
    "            \n",
    "            optimizer.zero_grad()\n",
    "            outputs = model(inputs)\n",
    "            loss = criterion(outputs, labels)\n",
    "            loss.backward()\n",
    "            optimizer.step()\n",
    "            \n",
    "            running_loss += loss.item()\n",
    "            \n",
    "            # Obliczanie dokładności\n",
    "            _, preds = torch.max(outputs, 1)\n",
    "            correct_preds += (preds == labels).sum().item()\n",
    "            total_preds += labels.size(0)\n",
    "        \n",
    "        # Obliczanie średniej straty i dokładności\n",
    "        avg_loss = running_loss / len(train_loader)\n",
    "        accuracy = correct_preds / total_preds\n",
    "        \n",
    "        # Wyświetlanie wyników dla bieżącej epoki\n",
    "        print(f\"Epoch {epoch+1}/{epochs} - Loss: {avg_loss:.4f} - Accuracy: {accuracy:.4f}\")\n",
    "    \n",
    "    return model\n",
    "\n",
    "# Trening i walidacja na 5 foldach\n",
    "for fold, (train_idx, val_idx) in enumerate(kf.split(X, y)):\n",
    "    print(f\"Training fold {fold+1}/5...\")\n",
    "    \n",
    "    # Przygotowanie danych\n",
    "    train_texts, val_texts = X.iloc[train_idx], X.iloc[val_idx]\n",
    "    train_labels, val_labels = y.iloc[train_idx], y.iloc[val_idx]\n",
    "    \n",
    "    # Przygotowanie DataLoaderów\n",
    "    train_dataset = TextDataset(train_texts.tolist(), train_labels.tolist())\n",
    "    val_dataset = TextDataset(val_texts.tolist(), val_labels.tolist())\n",
    "    train_loader = DataLoader(train_dataset, batch_size=32, shuffle=True, collate_fn=collate_fn)\n",
    "    val_loader = DataLoader(val_dataset, batch_size=32, shuffle=False, collate_fn=collate_fn)\n",
    "    \n",
    "    # Inicjalizacja modelu\n",
    "    model = TextCNN(vocab_size=len(vocab), embed_dim=100, num_classes=3).to(device)\n",
    "    optimizer = optim.Adam(model.parameters(), lr=1e-3)\n",
    "    criterion = nn.CrossEntropyLoss()\n",
    "    \n",
    "    # Trenowanie modelu z wyświetlaniem accur i loss\n",
    "    model = train_model(model, train_loader, criterion, optimizer, epochs=10)\n",
    "    \n",
    "    # Ewaluacja modelu\n",
    "    true_labels, pred_labels = evaluate_model(model, val_loader)\n",
    "    \n",
    "    # Obliczenie metryk\n",
    "    accuracy = accuracy_score(true_labels, pred_labels)\n",
    "    precision = precision_score(true_labels, pred_labels, average='weighted')\n",
    "    recall = recall_score(true_labels, pred_labels, average='weighted')\n",
    "    f1 = f1_score(true_labels, pred_labels, average='weighted')\n",
    "    cm = confusion_matrix(true_labels, pred_labels)\n",
    "    \n",
    "    # Zapisanie wyników\n",
    "    results.append({\n",
    "        \"fold\": fold + 1,\n",
    "        \"accuracy\": accuracy,\n",
    "        \"precision\": precision,\n",
    "        \"recall\": recall,\n",
    "        \"f1\": f1,\n",
    "        \"confusion_matrix\": cm\n",
    "    })\n",
    "    \n",
    "    # Zapisanie najlepszego modelu (jeśli jest lepszy od poprzedniego)\n",
    "    if fold == 0 or f1 > best_f1:\n",
    "        best_f1 = f1\n",
    "        torch.save(model.state_dict(), f\"best_model_fold_32_{fold+1}.pth\")\n",
    "\n",
    "# Podsumowanie wyników\n",
    "results_df = pd.DataFrame(results)\n",
    "print(results_df)\n",
    "\n",
    "# Opcjonalnie: Wyświetlenie confusion matrix dla ostatniego modelu\n",
    "sns.heatmap(results_df[\"confusion_matrix\"].iloc[-1], annot=True, fmt=\"d\", cmap=\"Blues\", xticklabels=[\"Negative\", \"Positive\", \"Hateful\"], yticklabels=[\"Negative\", \"Positive\", \"Hateful\"])\n",
    "plt.title(f\"Confusion Matrix - Fold {5}\")\n",
    "plt.show()\n"
   ]
  },
  {
   "cell_type": "code",
   "execution_count": null,
   "id": "f7b948bc",
   "metadata": {},
   "outputs": [],
   "source": []
  }
 ],
 "metadata": {
  "kernelspec": {
   "display_name": "Python 3",
   "language": "python",
   "name": "python3"
  },
  "language_info": {
   "codemirror_mode": {
    "name": "ipython",
    "version": 3
   },
   "file_extension": ".py",
   "mimetype": "text/x-python",
   "name": "python",
   "nbconvert_exporter": "python",
   "pygments_lexer": "ipython3",
   "version": "3.10.0"
  }
 },
 "nbformat": 4,
 "nbformat_minor": 5
}
