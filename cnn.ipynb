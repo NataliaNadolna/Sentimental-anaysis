{
 "cells": [
  {
   "cell_type": "code",
   "execution_count": 21,
   "id": "initial_id",
   "metadata": {
    "ExecuteTime": {
     "end_time": "2025-05-05T19:03:42.232090Z",
     "start_time": "2025-05-05T19:03:42.225156Z"
    },
    "collapsed": true
   },
   "outputs": [],
   "source": [
    "import pandas as pd\n",
    "import matplotlib.pyplot as plt\n",
    "import seaborn as sns\n",
    "from sklearn.model_selection import StratifiedKFold, train_test_split, ParameterGrid\n",
    "from sklearn.metrics import accuracy_score, precision_score, recall_score, f1_score, confusion_matrix\n",
    "from collections import Counter\n",
    "import torch\n",
    "import torch.nn as nn\n",
    "import torch.optim as optim\n",
    "from torch.utils.data import Dataset, DataLoader\n",
    "from torch.nn.utils.rnn import pad_sequence\n",
    "from torchinfo import summary\n",
    "import re\n",
    "import random"
   ]
  },
  {
   "cell_type": "code",
   "execution_count": 2,
   "id": "4ca8407e36490c18",
   "metadata": {
    "ExecuteTime": {
     "end_time": "2025-05-05T19:03:43.031639Z",
     "start_time": "2025-05-05T19:03:42.377562Z"
    },
    "collapsed": false
   },
   "outputs": [],
   "source": [
    "sentiment_dataset = pd.read_csv(\"Sentiment140_filtered.csv\")"
   ]
  },
  {
   "cell_type": "code",
   "execution_count": 3,
   "id": "2f1dd2dbdf041af7",
   "metadata": {
    "ExecuteTime": {
     "end_time": "2025-05-05T19:03:43.054820Z",
     "start_time": "2025-05-05T19:03:43.035755Z"
    },
    "collapsed": false
   },
   "outputs": [
    {
     "data": {
      "text/html": [
       "<div>\n",
       "<style scoped>\n",
       "    .dataframe tbody tr th:only-of-type {\n",
       "        vertical-align: middle;\n",
       "    }\n",
       "\n",
       "    .dataframe tbody tr th {\n",
       "        vertical-align: top;\n",
       "    }\n",
       "\n",
       "    .dataframe thead th {\n",
       "        text-align: right;\n",
       "    }\n",
       "</style>\n",
       "<table border=\"1\" class=\"dataframe\">\n",
       "  <thead>\n",
       "    <tr style=\"text-align: right;\">\n",
       "      <th></th>\n",
       "      <th>Unnamed: 0</th>\n",
       "      <th>target</th>\n",
       "      <th>ids</th>\n",
       "      <th>date</th>\n",
       "      <th>flag</th>\n",
       "      <th>user</th>\n",
       "      <th>text</th>\n",
       "      <th>hate_pred</th>\n",
       "    </tr>\n",
       "  </thead>\n",
       "  <tbody>\n",
       "    <tr>\n",
       "      <th>0</th>\n",
       "      <td>750</td>\n",
       "      <td>0</td>\n",
       "      <td>1467998601</td>\n",
       "      <td>Mon Apr 06 23:11:18 PDT 2009</td>\n",
       "      <td>NO_QUERY</td>\n",
       "      <td>Young_J</td>\n",
       "      <td>I'm off too bed. I gotta wake up hella early t...</td>\n",
       "      <td>1</td>\n",
       "    </tr>\n",
       "    <tr>\n",
       "      <th>1</th>\n",
       "      <td>766711</td>\n",
       "      <td>0</td>\n",
       "      <td>2300049112</td>\n",
       "      <td>Tue Jun 23 13:40:12 PDT 2009</td>\n",
       "      <td>NO_QUERY</td>\n",
       "      <td>dougnawoschik</td>\n",
       "      <td>I havent been able to listen to it yet  My spe...</td>\n",
       "      <td>1</td>\n",
       "    </tr>\n",
       "    <tr>\n",
       "      <th>2</th>\n",
       "      <td>285055</td>\n",
       "      <td>0</td>\n",
       "      <td>1993474319</td>\n",
       "      <td>Mon Jun 01 10:26:09 PDT 2009</td>\n",
       "      <td>NO_QUERY</td>\n",
       "      <td>thireven</td>\n",
       "      <td>now remembers why solving a relatively big equ...</td>\n",
       "      <td>1</td>\n",
       "    </tr>\n",
       "    <tr>\n",
       "      <th>3</th>\n",
       "      <td>705995</td>\n",
       "      <td>0</td>\n",
       "      <td>2256551006</td>\n",
       "      <td>Sat Jun 20 12:56:51 PDT 2009</td>\n",
       "      <td>NO_QUERY</td>\n",
       "      <td>taracollins086</td>\n",
       "      <td>Ate too much, feel sick</td>\n",
       "      <td>1</td>\n",
       "    </tr>\n",
       "    <tr>\n",
       "      <th>4</th>\n",
       "      <td>379611</td>\n",
       "      <td>0</td>\n",
       "      <td>2052381070</td>\n",
       "      <td>Sat Jun 06 00:32:23 PDT 2009</td>\n",
       "      <td>NO_QUERY</td>\n",
       "      <td>Portablemonkey</td>\n",
       "      <td>Tried to purchase a parked domain through GoDa...</td>\n",
       "      <td>1</td>\n",
       "    </tr>\n",
       "  </tbody>\n",
       "</table>\n",
       "</div>"
      ],
      "text/plain": [
       "   Unnamed: 0  target         ids                          date      flag  \\\n",
       "0         750       0  1467998601  Mon Apr 06 23:11:18 PDT 2009  NO_QUERY   \n",
       "1      766711       0  2300049112  Tue Jun 23 13:40:12 PDT 2009  NO_QUERY   \n",
       "2      285055       0  1993474319  Mon Jun 01 10:26:09 PDT 2009  NO_QUERY   \n",
       "3      705995       0  2256551006  Sat Jun 20 12:56:51 PDT 2009  NO_QUERY   \n",
       "4      379611       0  2052381070  Sat Jun 06 00:32:23 PDT 2009  NO_QUERY   \n",
       "\n",
       "             user                                               text  \\\n",
       "0         Young_J  I'm off too bed. I gotta wake up hella early t...   \n",
       "1   dougnawoschik  I havent been able to listen to it yet  My spe...   \n",
       "2        thireven  now remembers why solving a relatively big equ...   \n",
       "3  taracollins086                           Ate too much, feel sick    \n",
       "4  Portablemonkey  Tried to purchase a parked domain through GoDa...   \n",
       "\n",
       "   hate_pred  \n",
       "0          1  \n",
       "1          1  \n",
       "2          1  \n",
       "3          1  \n",
       "4          1  "
      ]
     },
     "execution_count": 3,
     "metadata": {},
     "output_type": "execute_result"
    }
   ],
   "source": [
    "sentiment_dataset.head()"
   ]
  },
  {
   "cell_type": "code",
   "execution_count": 4,
   "id": "cd33133fa12ada83",
   "metadata": {
    "ExecuteTime": {
     "end_time": "2025-05-05T19:03:43.111062Z",
     "start_time": "2025-05-05T19:03:43.057789Z"
    },
    "collapsed": false
   },
   "outputs": [
    {
     "data": {
      "text/plain": [
       "Unnamed: 0    0\n",
       "target        0\n",
       "ids           0\n",
       "date          0\n",
       "flag          0\n",
       "user          0\n",
       "text          0\n",
       "hate_pred     0\n",
       "dtype: int64"
      ]
     },
     "execution_count": 4,
     "metadata": {},
     "output_type": "execute_result"
    }
   ],
   "source": [
    "sentiment_dataset.isnull().sum()"
   ]
  },
  {
   "cell_type": "code",
   "execution_count": 5,
   "id": "208569a0a3f56969",
   "metadata": {
    "ExecuteTime": {
     "end_time": "2025-05-05T19:03:44.324172Z",
     "start_time": "2025-05-05T19:03:43.115098Z"
    },
    "collapsed": false
   },
   "outputs": [
    {
     "data": {
      "text/plain": [
       "<seaborn.axisgrid.FacetGrid at 0x1b976381060>"
      ]
     },
     "execution_count": 5,
     "metadata": {},
     "output_type": "execute_result"
    },
    {
     "data": {
      "image/png": "[encoded data removed]",
      "text/plain": [
       "<Figure size 368x360 with 1 Axes>"
      ]
     },
     "metadata": {
      "needs_background": "light"
     },
     "output_type": "display_data"
    }
   ],
   "source": [
    "sns.catplot(x = 'target', data = sentiment_dataset, kind = 'count')\n"
   ]
  },
  {
   "cell_type": "code",
   "execution_count": 6,
   "id": "5f9664a800f1f89",
   "metadata": {
    "ExecuteTime": {
     "end_time": "2025-05-05T19:03:44.952077Z",
     "start_time": "2025-05-05T19:03:44.327161Z"
    },
    "collapsed": false
   },
   "outputs": [],
   "source": [
    "hateful_dataset = pd.read_csv(\"hateful_sentiment.csv\")"
   ]
  },
  {
   "cell_type": "code",
   "execution_count": 7,
   "id": "dca7580ded022803",
   "metadata": {
    "ExecuteTime": {
     "end_time": "2025-05-05T19:03:44.973001Z",
     "start_time": "2025-05-05T19:03:44.954211Z"
    },
    "collapsed": false
   },
   "outputs": [
    {
     "data": {
      "text/html": [
       "<div>\n",
       "<style scoped>\n",
       "    .dataframe tbody tr th:only-of-type {\n",
       "        vertical-align: middle;\n",
       "    }\n",
       "\n",
       "    .dataframe tbody tr th {\n",
       "        vertical-align: top;\n",
       "    }\n",
       "\n",
       "    .dataframe thead th {\n",
       "        text-align: right;\n",
       "    }\n",
       "</style>\n",
       "<table border=\"1\" class=\"dataframe\">\n",
       "  <thead>\n",
       "    <tr style=\"text-align: right;\">\n",
       "      <th></th>\n",
       "      <th>Content</th>\n",
       "      <th>Label</th>\n",
       "      <th>Content_int</th>\n",
       "    </tr>\n",
       "  </thead>\n",
       "  <tbody>\n",
       "    <tr>\n",
       "      <th>0</th>\n",
       "      <td>retweet to the rejects who constantly call my ...</td>\n",
       "      <td>1</td>\n",
       "      <td>[146715, 1761, 7, 3, 22587, 67, 6768, 472, 129...</td>\n",
       "    </tr>\n",
       "    <tr>\n",
       "      <th>1</th>\n",
       "      <td>i purpose that whatever attack everyone who ca...</td>\n",
       "      <td>1</td>\n",
       "      <td>[146715, 80, 4226, 28, 220, 1347, 1568, 67, 65...</td>\n",
       "    </tr>\n",
       "    <tr>\n",
       "      <th>2</th>\n",
       "      <td>are you fucking kidding me you deserve to fuck...</td>\n",
       "      <td>1</td>\n",
       "      <td>[146715, 154, 26, 69, 1361, 78, 26, 6610, 7, 6...</td>\n",
       "    </tr>\n",
       "    <tr>\n",
       "      <th>3</th>\n",
       "      <td>retweet i am not racist and i am not sexist i ...</td>\n",
       "      <td>1</td>\n",
       "      <td>[146715, 1761, 80, 81, 76, 1723, 111, 80, 81, ...</td>\n",
       "    </tr>\n",
       "    <tr>\n",
       "      <th>4</th>\n",
       "      <td>just imagine if the two million spent on the s...</td>\n",
       "      <td>1</td>\n",
       "      <td>[146715, 14, 925, 204, 3, 672, 462, 5271, 9, 3...</td>\n",
       "    </tr>\n",
       "  </tbody>\n",
       "</table>\n",
       "</div>"
      ],
      "text/plain": [
       "                                             Content  Label  \\\n",
       "0  retweet to the rejects who constantly call my ...      1   \n",
       "1  i purpose that whatever attack everyone who ca...      1   \n",
       "2  are you fucking kidding me you deserve to fuck...      1   \n",
       "3  retweet i am not racist and i am not sexist i ...      1   \n",
       "4  just imagine if the two million spent on the s...      1   \n",
       "\n",
       "                                         Content_int  \n",
       "0  [146715, 1761, 7, 3, 22587, 67, 6768, 472, 129...  \n",
       "1  [146715, 80, 4226, 28, 220, 1347, 1568, 67, 65...  \n",
       "2  [146715, 154, 26, 69, 1361, 78, 26, 6610, 7, 6...  \n",
       "3  [146715, 1761, 80, 81, 76, 1723, 111, 80, 81, ...  \n",
       "4  [146715, 14, 925, 204, 3, 672, 462, 5271, 9, 3...  "
      ]
     },
     "execution_count": 7,
     "metadata": {},
     "output_type": "execute_result"
    }
   ],
   "source": [
    "hateful_dataset.head()"
   ]
  },
  {
   "cell_type": "code",
   "execution_count": 8,
   "id": "ddef1585ba2ee1be",
   "metadata": {
    "ExecuteTime": {
     "end_time": "2025-05-05T19:03:45.037986Z",
     "start_time": "2025-05-05T19:03:44.980846Z"
    },
    "collapsed": false
   },
   "outputs": [
    {
     "data": {
      "text/html": [
       "<div>\n",
       "<style scoped>\n",
       "    .dataframe tbody tr th:only-of-type {\n",
       "        vertical-align: middle;\n",
       "    }\n",
       "\n",
       "    .dataframe tbody tr th {\n",
       "        vertical-align: top;\n",
       "    }\n",
       "\n",
       "    .dataframe thead th {\n",
       "        text-align: right;\n",
       "    }\n",
       "</style>\n",
       "<table border=\"1\" class=\"dataframe\">\n",
       "  <thead>\n",
       "    <tr style=\"text-align: right;\">\n",
       "      <th></th>\n",
       "      <th>text</th>\n",
       "      <th>target</th>\n",
       "    </tr>\n",
       "  </thead>\n",
       "  <tbody>\n",
       "    <tr>\n",
       "      <th>0</th>\n",
       "      <td>retweet to the rejects who constantly call my ...</td>\n",
       "      <td>2</td>\n",
       "    </tr>\n",
       "    <tr>\n",
       "      <th>1</th>\n",
       "      <td>i purpose that whatever attack everyone who ca...</td>\n",
       "      <td>2</td>\n",
       "    </tr>\n",
       "    <tr>\n",
       "      <th>2</th>\n",
       "      <td>are you fucking kidding me you deserve to fuck...</td>\n",
       "      <td>2</td>\n",
       "    </tr>\n",
       "    <tr>\n",
       "      <th>3</th>\n",
       "      <td>retweet i am not racist and i am not sexist i ...</td>\n",
       "      <td>2</td>\n",
       "    </tr>\n",
       "    <tr>\n",
       "      <th>4</th>\n",
       "      <td>just imagine if the two million spent on the s...</td>\n",
       "      <td>2</td>\n",
       "    </tr>\n",
       "  </tbody>\n",
       "</table>\n",
       "</div>"
      ],
      "text/plain": [
       "                                                text  target\n",
       "0  retweet to the rejects who constantly call my ...       2\n",
       "1  i purpose that whatever attack everyone who ca...       2\n",
       "2  are you fucking kidding me you deserve to fuck...       2\n",
       "3  retweet i am not racist and i am not sexist i ...       2\n",
       "4  just imagine if the two million spent on the s...       2"
      ]
     },
     "execution_count": 8,
     "metadata": {},
     "output_type": "execute_result"
    }
   ],
   "source": [
    "hateful_dataset = hateful_dataset[[\"Content\", \"Label\"]]\n",
    "hateful_dataset = hateful_dataset.rename(columns = {\"Content\": \"text\", \"Label\": \"target\"})\n",
    "hateful_dataset[\"target\"] = 2\n",
    "\n",
    "hateful_dataset.head()"
   ]
  },
  {
   "cell_type": "code",
   "execution_count": 9,
   "id": "7cf15d9e9a5a3600",
   "metadata": {
    "ExecuteTime": {
     "end_time": "2025-05-05T19:03:45.070750Z",
     "start_time": "2025-05-05T19:03:45.047991Z"
    },
    "collapsed": false
   },
   "outputs": [
    {
     "data": {
      "text/html": [
       "<div>\n",
       "<style scoped>\n",
       "    .dataframe tbody tr th:only-of-type {\n",
       "        vertical-align: middle;\n",
       "    }\n",
       "\n",
       "    .dataframe tbody tr th {\n",
       "        vertical-align: top;\n",
       "    }\n",
       "\n",
       "    .dataframe thead th {\n",
       "        text-align: right;\n",
       "    }\n",
       "</style>\n",
       "<table border=\"1\" class=\"dataframe\">\n",
       "  <thead>\n",
       "    <tr style=\"text-align: right;\">\n",
       "      <th></th>\n",
       "      <th>text</th>\n",
       "      <th>target</th>\n",
       "    </tr>\n",
       "  </thead>\n",
       "  <tbody>\n",
       "    <tr>\n",
       "      <th>0</th>\n",
       "      <td>I'm off too bed. I gotta wake up hella early t...</td>\n",
       "      <td>0</td>\n",
       "    </tr>\n",
       "    <tr>\n",
       "      <th>1</th>\n",
       "      <td>I havent been able to listen to it yet  My spe...</td>\n",
       "      <td>0</td>\n",
       "    </tr>\n",
       "    <tr>\n",
       "      <th>2</th>\n",
       "      <td>now remembers why solving a relatively big equ...</td>\n",
       "      <td>0</td>\n",
       "    </tr>\n",
       "    <tr>\n",
       "      <th>3</th>\n",
       "      <td>Ate too much, feel sick</td>\n",
       "      <td>0</td>\n",
       "    </tr>\n",
       "    <tr>\n",
       "      <th>4</th>\n",
       "      <td>Tried to purchase a parked domain through GoDa...</td>\n",
       "      <td>0</td>\n",
       "    </tr>\n",
       "  </tbody>\n",
       "</table>\n",
       "</div>"
      ],
      "text/plain": [
       "                                                text  target\n",
       "0  I'm off too bed. I gotta wake up hella early t...       0\n",
       "1  I havent been able to listen to it yet  My spe...       0\n",
       "2  now remembers why solving a relatively big equ...       0\n",
       "3                           Ate too much, feel sick        0\n",
       "4  Tried to purchase a parked domain through GoDa...       0"
      ]
     },
     "execution_count": 9,
     "metadata": {},
     "output_type": "execute_result"
    }
   ],
   "source": [
    "sentiment_dataset = sentiment_dataset[[\"text\", \"target\"]]\n",
    "sentiment_dataset.head()"
   ]
  },
  {
   "cell_type": "code",
   "execution_count": 10,
   "id": "31e3b42f03ddd961",
   "metadata": {
    "ExecuteTime": {
     "end_time": "2025-05-05T19:03:45.088610Z",
     "start_time": "2025-05-05T19:03:45.072768Z"
    },
    "collapsed": false
   },
   "outputs": [],
   "source": [
    "sentiment_dataset.loc[sentiment_dataset['target']==4, 'target'] = 1\n",
    "sentiment_dataset.loc[sentiment_dataset['target']==0, 'target'] = 0\n",
    "# 0 - negative, 1 - positive, 2 - hateful"
   ]
  },
  {
   "cell_type": "code",
   "execution_count": 11,
   "id": "fd985d4d7970574c",
   "metadata": {
    "ExecuteTime": {
     "end_time": "2025-05-05T19:03:45.110965Z",
     "start_time": "2025-05-05T19:03:45.094599Z"
    },
    "collapsed": false
   },
   "outputs": [],
   "source": [
    "sentiment_dataset = pd.concat([sentiment_dataset, hateful_dataset], ignore_index= True)"
   ]
  },
  {
   "cell_type": "code",
   "execution_count": 12,
   "id": "75755888f98893f0",
   "metadata": {
    "ExecuteTime": {
     "end_time": "2025-05-05T19:03:45.161646Z",
     "start_time": "2025-05-05T19:03:45.121940Z"
    },
    "collapsed": false
   },
   "outputs": [
    {
     "data": {
      "text/html": [
       "<div>\n",
       "<style scoped>\n",
       "    .dataframe tbody tr th:only-of-type {\n",
       "        vertical-align: middle;\n",
       "    }\n",
       "\n",
       "    .dataframe tbody tr th {\n",
       "        vertical-align: top;\n",
       "    }\n",
       "\n",
       "    .dataframe thead th {\n",
       "        text-align: right;\n",
       "    }\n",
       "</style>\n",
       "<table border=\"1\" class=\"dataframe\">\n",
       "  <thead>\n",
       "    <tr style=\"text-align: right;\">\n",
       "      <th></th>\n",
       "      <th>text</th>\n",
       "      <th>target</th>\n",
       "    </tr>\n",
       "  </thead>\n",
       "  <tbody>\n",
       "    <tr>\n",
       "      <th>0</th>\n",
       "      <td>I'm off too bed. I gotta wake up hella early t...</td>\n",
       "      <td>0</td>\n",
       "    </tr>\n",
       "    <tr>\n",
       "      <th>1</th>\n",
       "      <td>I havent been able to listen to it yet  My spe...</td>\n",
       "      <td>0</td>\n",
       "    </tr>\n",
       "    <tr>\n",
       "      <th>2</th>\n",
       "      <td>now remembers why solving a relatively big equ...</td>\n",
       "      <td>0</td>\n",
       "    </tr>\n",
       "    <tr>\n",
       "      <th>3</th>\n",
       "      <td>Ate too much, feel sick</td>\n",
       "      <td>0</td>\n",
       "    </tr>\n",
       "    <tr>\n",
       "      <th>4</th>\n",
       "      <td>Tried to purchase a parked domain through GoDa...</td>\n",
       "      <td>0</td>\n",
       "    </tr>\n",
       "  </tbody>\n",
       "</table>\n",
       "</div>"
      ],
      "text/plain": [
       "                                                text  target\n",
       "0  I'm off too bed. I gotta wake up hella early t...       0\n",
       "1  I havent been able to listen to it yet  My spe...       0\n",
       "2  now remembers why solving a relatively big equ...       0\n",
       "3                           Ate too much, feel sick        0\n",
       "4  Tried to purchase a parked domain through GoDa...       0"
      ]
     },
     "execution_count": 12,
     "metadata": {},
     "output_type": "execute_result"
    }
   ],
   "source": [
    "sentiment_dataset.head()"
   ]
  },
  {
   "cell_type": "code",
   "execution_count": 13,
   "id": "85cfba99464a218f",
   "metadata": {
    "ExecuteTime": {
     "end_time": "2025-05-05T19:03:46.419934Z",
     "start_time": "2025-05-05T19:03:45.166665Z"
    },
    "collapsed": false
   },
   "outputs": [
    {
     "data": {
      "text/plain": [
       "<seaborn.axisgrid.FacetGrid at 0x1b9240e49a0>"
      ]
     },
     "execution_count": 13,
     "metadata": {},
     "output_type": "execute_result"
    },
    {
     "data": {
      "image/png": "[encoded data removed]",
      "text/plain": [
       "<Figure size 368x360 with 1 Axes>"
      ]
     },
     "metadata": {
      "needs_background": "light"
     },
     "output_type": "display_data"
    }
   ],
   "source": [
    "sns.catplot(x = 'target', data = sentiment_dataset, kind = 'count')"
   ]
  },
  {
   "cell_type": "code",
   "execution_count": 14,
   "id": "f5b1624ea8418ce2",
   "metadata": {
    "ExecuteTime": {
     "end_time": "2025-05-05T19:03:46.432913Z",
     "start_time": "2025-05-05T19:03:46.420928Z"
    },
    "collapsed": false
   },
   "outputs": [
    {
     "data": {
      "text/plain": [
       "target\n",
       "2    60000\n",
       "1    59700\n",
       "0    59300\n",
       "Name: count, dtype: int64"
      ]
     },
     "execution_count": 14,
     "metadata": {},
     "output_type": "execute_result"
    }
   ],
   "source": [
    "sentiment_dataset['target'].value_counts()"
   ]
  },
  {
   "cell_type": "code",
   "execution_count": 15,
   "id": "22103dab73e41832",
   "metadata": {
    "ExecuteTime": {
     "end_time": "2025-05-05T19:03:46.456931Z",
     "start_time": "2025-05-05T19:03:46.434907Z"
    },
    "collapsed": false
   },
   "outputs": [
    {
     "data": {
      "text/plain": [
       "text      0\n",
       "target    0\n",
       "dtype: int64"
      ]
     },
     "execution_count": 15,
     "metadata": {},
     "output_type": "execute_result"
    }
   ],
   "source": [
    "sentiment_dataset.isnull().sum()"
   ]
  },
  {
   "cell_type": "code",
   "execution_count": 16,
   "id": "5fffbbcd",
   "metadata": {},
   "outputs": [],
   "source": [
    "X = sentiment_dataset['text']\n",
    "y = sentiment_dataset['target']"
   ]
  },
  {
   "cell_type": "code",
   "execution_count": 17,
   "id": "94e989a7",
   "metadata": {},
   "outputs": [],
   "source": [
    "def set_seed(seed=42):\n",
    "    random.seed(seed)\n",
    "    torch.manual_seed(seed)\n",
    "    torch.cuda.manual_seed(seed)\n",
    "    torch.cuda.manual_seed_all(seed)\n",
    "    torch.backends.cudnn.deterministic = True\n",
    "    torch.backends.cudnn.benchmark = False\n",
    "\n",
    "set_seed(42)"
   ]
  },
  {
   "cell_type": "markdown",
   "id": "d863186d38fc8049",
   "metadata": {
    "collapsed": false
   },
   "source": [
    "CNN"
   ]
  },
  {
   "cell_type": "code",
   "execution_count": 18,
   "id": "2c05dd93",
   "metadata": {},
   "outputs": [],
   "source": [
    "# Tokenizacja i czyszczenie tekstu\n",
    "def tokenize(text):\n",
    "    text = text.lower()\n",
    "    text = re.sub(r\"[^a-zA-Z0-9\\s]\", \"\", text)\n",
    "    return text.split() # podział na tokeny (słowa) po spacjach\n",
    "\n",
    "# Tworzenie słownika\n",
    "all_tokens = [token for text in sentiment_dataset['text'] for token in tokenize(text)]\n",
    "vocab = {word: i+2 for i, (word, _) in enumerate(Counter(all_tokens).most_common(10000))}\n",
    "vocab['<PAD>'] = 0 # do wyrównania długości sekwencji\n",
    "vocab['<UNK>'] = 1 # dla słów nieznanych\n",
    "\n",
    "# tokenizacja tekstu, zamiana słów na indeksy słownika, jeśli nie ma słowa w słowniku -> wartość 1\n",
    "def encode(text):\n",
    "    return [vocab.get(token, 1) for token in tokenize(text)]"
   ]
  },
  {
   "cell_type": "code",
   "execution_count": 19,
   "id": "86341b33",
   "metadata": {},
   "outputs": [],
   "source": [
    "# Dataset\n",
    "class TextDataset(Dataset):\n",
    "    def __init__(self, texts, labels):\n",
    "        self.texts = [torch.tensor(encode(text)) for text in texts]\n",
    "        self.labels = torch.tensor(labels, dtype=torch.long)\n",
    "\n",
    "    def __len__(self):\n",
    "        return len(self.labels)\n",
    "\n",
    "    def __getitem__(self, idx):\n",
    "        return self.texts[idx], self.labels[idx]\n",
    "\n",
    "# Funkcja padding collate\n",
    "def collate_fn(batch):\n",
    "    texts, labels = zip(*batch) # rozdzielenie par na 2 listy\n",
    "    texts_padded = pad_sequence(texts, batch_first=True, padding_value=0) # wyrównanie długości sekwencji\n",
    "    return texts_padded, torch.tensor(labels)"
   ]
  },
  {
   "cell_type": "code",
   "execution_count": 20,
   "id": "fed32421",
   "metadata": {},
   "outputs": [],
   "source": [
    "# Model CNN\n",
    "class TextCNN(nn.Module):\n",
    "    def __init__(self, vocab_size, embed_dim, num_classes):\n",
    "        super(TextCNN, self).__init__()\n",
    "        self.embedding = nn.Embedding(vocab_size, embed_dim, padding_idx=0) # zmiana indeksów słów w wektory\n",
    "        self.conv1 = nn.Conv1d(embed_dim, 100, kernel_size=3)\n",
    "        self.relu = nn.ReLU()\n",
    "        self.pool = nn.AdaptiveMaxPool1d(1)\n",
    "        self.dropout = nn.Dropout(0.5)\n",
    "        self.fc = nn.Linear(100, num_classes)\n",
    "\n",
    "    def forward(self, x):\n",
    "        x = self.embedding(x) \n",
    "        x = x.permute(0, 2, 1)\n",
    "        x = self.relu(self.conv1(x))\n",
    "        x = self.dropout(x) \n",
    "        x = self.pool(x).squeeze(2)\n",
    "        return self.fc(x)\n",
    "    "
   ]
  },
  {
   "cell_type": "code",
   "execution_count": 37,
   "id": "164d651f",
   "metadata": {},
   "outputs": [],
   "source": [
    "# Hiperparametry\n",
    "epochs_num = 4\n",
    "device = torch.device(\"cuda\" if torch.cuda.is_available() else \"cpu\")\n",
    "model = TextCNN(vocab_size=len(vocab), embed_dim=100, num_classes=3).to(device)\n",
    "embed_dim = 100\n",
    "\n",
    "param_grid = list(ParameterGrid({\n",
    "    'learning_rate': [1e-3],\n",
    "    'batch': [16, 32]\n",
    "}))"
   ]
  },
  {
   "cell_type": "code",
   "execution_count": 38,
   "id": "0806d985",
   "metadata": {},
   "outputs": [
    {
     "data": {
      "text/plain": [
       "==========================================================================================\n",
       "Layer (type:depth-idx)                   Output Shape              Param #\n",
       "==========================================================================================\n",
       "TextCNN                                  [32, 3]                   --\n",
       "├─Embedding: 1-1                         [32, 100, 100]            1,000,200\n",
       "├─Conv1d: 1-2                            [32, 100, 98]             30,100\n",
       "├─ReLU: 1-3                              [32, 100, 98]             --\n",
       "├─Dropout: 1-4                           [32, 100, 98]             --\n",
       "├─AdaptiveMaxPool1d: 1-5                 [32, 100, 1]              --\n",
       "├─Linear: 1-6                            [32, 3]                   303\n",
       "==========================================================================================\n",
       "Total params: 1,030,603\n",
       "Trainable params: 1,030,603\n",
       "Non-trainable params: 0\n",
       "Total mult-adds (M): 126.41\n",
       "==========================================================================================\n",
       "Input size (MB): 0.03\n",
       "Forward/backward pass size (MB): 5.07\n",
       "Params size (MB): 4.12\n",
       "Estimated Total Size (MB): 9.22\n",
       "=========================================================================================="
      ]
     },
     "execution_count": 38,
     "metadata": {},
     "output_type": "execute_result"
    }
   ],
   "source": [
    "# Podsumowanie modelu\n",
    "summary(model, input_size=(32, 100), dtypes=[torch.long])"
   ]
  },
  {
   "cell_type": "code",
   "execution_count": 39,
   "id": "41040e5d",
   "metadata": {},
   "outputs": [],
   "source": [
    "# Podział na 5 foldów\n",
    "kf = StratifiedKFold(n_splits=5, shuffle=True, random_state=42)\n",
    "\n",
    "results = []\n",
    "\n",
    "def evaluate_model(model, val_loader):\n",
    "    model.eval()  # Ustawienie modelu w tryb ewaluacji\n",
    "    true_labels = []\n",
    "    pred_labels = []\n",
    "    \n",
    "    with torch.no_grad():  # Bez obliczania gradientów\n",
    "        for inputs, labels in val_loader:\n",
    "            inputs, labels = inputs.to(device), labels.to(device)\n",
    "            outputs = model(inputs)\n",
    "            _, preds = torch.max(outputs, 1)\n",
    "            true_labels.extend(labels.cpu().numpy())\n",
    "            pred_labels.extend(preds.cpu().numpy())\n",
    "    \n",
    "    return true_labels, pred_labels\n",
    "\n",
    "def train_model(model, train_loader, val_loader, criterion, optimizer, epochs=epochs_num):\n",
    "    train_loss_history = []\n",
    "    val_loss_history = []\n",
    "    train_acc_history = []\n",
    "    val_acc_history = []\n",
    "\n",
    "    for epoch in range(epochs):\n",
    "        model.train()\n",
    "        running_loss = 0.0\n",
    "        correct_preds = 0\n",
    "        total_preds = 0\n",
    "\n",
    "        for inputs, labels in train_loader:\n",
    "            inputs, labels = inputs.to(device), labels.to(device)\n",
    "            optimizer.zero_grad()\n",
    "            outputs = model(inputs)\n",
    "            loss = criterion(outputs, labels)\n",
    "            loss.backward()\n",
    "            optimizer.step()\n",
    "\n",
    "            running_loss += loss.item()\n",
    "            _, preds = torch.max(outputs, 1)\n",
    "            correct_preds += (preds == labels).sum().item()\n",
    "            total_preds += labels.size(0)\n",
    "\n",
    "        avg_train_loss = running_loss / len(train_loader)\n",
    "        train_acc = correct_preds / total_preds\n",
    "        train_loss_history.append(avg_train_loss)\n",
    "        train_acc_history.append(train_acc)\n",
    "\n",
    "        model.eval()\n",
    "        val_loss = 0.0\n",
    "        val_correct = 0\n",
    "        val_total = 0\n",
    "        with torch.no_grad():\n",
    "            for inputs, labels in val_loader:\n",
    "                inputs, labels = inputs.to(device), labels.to(device)\n",
    "                outputs = model(inputs)\n",
    "                loss = criterion(outputs, labels)\n",
    "                val_loss += loss.item()\n",
    "                _, preds = torch.max(outputs, 1)\n",
    "                val_correct += (preds == labels).sum().item()\n",
    "                val_total += labels.size(0)\n",
    "\n",
    "        avg_val_loss = val_loss / len(val_loader)\n",
    "        val_acc = val_correct / val_total\n",
    "        val_loss_history.append(avg_val_loss)\n",
    "        val_acc_history.append(val_acc)\n",
    "\n",
    "        print(f\"Epoch {epoch+1}/{epochs} - Train Loss: {avg_train_loss:.4f} - Val Loss: {avg_val_loss:.4f} - Train Acc: {train_acc:.4f} - Val Acc: {val_acc:.4f}\")\n",
    "\n",
    "    return model, train_loss_history, val_loss_history, train_acc_history, val_acc_history\n"
   ]
  },
  {
   "cell_type": "code",
   "execution_count": 41,
   "id": "580188c2",
   "metadata": {},
   "outputs": [
    {
     "name": "stdout",
     "output_type": "stream",
     "text": [
      "\n",
      "=== Param set 1/2: LR=0.001, Batch=16 ===\n",
      "\n",
      "Training fold 1/5...\n",
      "Epoch 1/4 - Train Loss: 0.5500 - Val Loss: 0.4560 - Train Acc: 0.7481 - Val Acc: 0.8132\n",
      "Epoch 2/4 - Train Loss: 0.4227 - Val Loss: 0.4300 - Train Acc: 0.8144 - Val Acc: 0.8195\n",
      "Epoch 3/4 - Train Loss: 0.3911 - Val Loss: 0.4103 - Train Acc: 0.8303 - Val Acc: 0.8208\n",
      "Epoch 4/4 - Train Loss: 0.3742 - Val Loss: 0.4130 - Train Acc: 0.8385 - Val Acc: 0.8229\n",
      "\n",
      "Training fold 2/5...\n",
      "Epoch 1/4 - Train Loss: 0.5520 - Val Loss: 0.4567 - Train Acc: 0.7471 - Val Acc: 0.8094\n",
      "Epoch 2/4 - Train Loss: 0.4230 - Val Loss: 0.4232 - Train Acc: 0.8135 - Val Acc: 0.8204\n",
      "Epoch 3/4 - Train Loss: 0.3908 - Val Loss: 0.4421 - Train Acc: 0.8305 - Val Acc: 0.8123\n",
      "Epoch 4/4 - Train Loss: 0.3723 - Val Loss: 0.4180 - Train Acc: 0.8396 - Val Acc: 0.8140\n",
      "\n",
      "Training fold 3/5...\n",
      "Epoch 1/4 - Train Loss: 0.5524 - Val Loss: 0.4648 - Train Acc: 0.7460 - Val Acc: 0.8036\n",
      "Epoch 2/4 - Train Loss: 0.4206 - Val Loss: 0.4522 - Train Acc: 0.8157 - Val Acc: 0.8091\n",
      "Epoch 3/4 - Train Loss: 0.3900 - Val Loss: 0.4325 - Train Acc: 0.8313 - Val Acc: 0.8082\n",
      "Epoch 4/4 - Train Loss: 0.3723 - Val Loss: 0.4139 - Train Acc: 0.8403 - Val Acc: 0.8214\n",
      "\n",
      "Training fold 4/5...\n",
      "Epoch 1/4 - Train Loss: 0.5511 - Val Loss: 0.4745 - Train Acc: 0.7464 - Val Acc: 0.7963\n",
      "Epoch 2/4 - Train Loss: 0.4221 - Val Loss: 0.4339 - Train Acc: 0.8145 - Val Acc: 0.8064\n",
      "Epoch 3/4 - Train Loss: 0.3899 - Val Loss: 0.4217 - Train Acc: 0.8311 - Val Acc: 0.8120\n",
      "Epoch 4/4 - Train Loss: 0.3728 - Val Loss: 0.4133 - Train Acc: 0.8396 - Val Acc: 0.8239\n",
      "\n",
      "Training fold 5/5...\n",
      "Epoch 1/4 - Train Loss: 0.5518 - Val Loss: 0.4865 - Train Acc: 0.7475 - Val Acc: 0.7850\n",
      "Epoch 2/4 - Train Loss: 0.4216 - Val Loss: 0.4376 - Train Acc: 0.8153 - Val Acc: 0.8125\n",
      "Epoch 3/4 - Train Loss: 0.3899 - Val Loss: 0.4445 - Train Acc: 0.8307 - Val Acc: 0.8038\n",
      "Epoch 4/4 - Train Loss: 0.3715 - Val Loss: 0.4090 - Train Acc: 0.8405 - Val Acc: 0.8226\n",
      "\n",
      "=== Param set 2/2: LR=0.001, Batch=32 ===\n",
      "\n",
      "Training fold 1/5...\n",
      "Epoch 1/4 - Train Loss: 0.5665 - Val Loss: 0.4762 - Train Acc: 0.7381 - Val Acc: 0.7963\n",
      "Epoch 2/4 - Train Loss: 0.4271 - Val Loss: 0.4596 - Train Acc: 0.8096 - Val Acc: 0.8066\n",
      "Epoch 3/4 - Train Loss: 0.3888 - Val Loss: 0.4300 - Train Acc: 0.8295 - Val Acc: 0.8194\n",
      "Epoch 4/4 - Train Loss: 0.3673 - Val Loss: 0.3971 - Train Acc: 0.8404 - Val Acc: 0.8312\n",
      "\n",
      "Training fold 2/5...\n",
      "Epoch 1/4 - Train Loss: 0.5621 - Val Loss: 0.4794 - Train Acc: 0.7396 - Val Acc: 0.8001\n",
      "Epoch 2/4 - Train Loss: 0.4237 - Val Loss: 0.4359 - Train Acc: 0.8113 - Val Acc: 0.8122\n",
      "Epoch 3/4 - Train Loss: 0.3881 - Val Loss: 0.4129 - Train Acc: 0.8299 - Val Acc: 0.8237\n",
      "Epoch 4/4 - Train Loss: 0.3665 - Val Loss: 0.4077 - Train Acc: 0.8406 - Val Acc: 0.8244\n",
      "\n",
      "Training fold 3/5...\n",
      "Epoch 1/4 - Train Loss: 0.5643 - Val Loss: 0.4817 - Train Acc: 0.7409 - Val Acc: 0.7932\n",
      "Epoch 2/4 - Train Loss: 0.4240 - Val Loss: 0.4486 - Train Acc: 0.8117 - Val Acc: 0.8104\n",
      "Epoch 3/4 - Train Loss: 0.3865 - Val Loss: 0.4204 - Train Acc: 0.8318 - Val Acc: 0.8227\n",
      "Epoch 4/4 - Train Loss: 0.3685 - Val Loss: 0.4137 - Train Acc: 0.8401 - Val Acc: 0.8241\n",
      "\n",
      "Training fold 4/5...\n",
      "Epoch 1/4 - Train Loss: 0.5678 - Val Loss: 0.4854 - Train Acc: 0.7379 - Val Acc: 0.7820\n",
      "Epoch 2/4 - Train Loss: 0.4283 - Val Loss: 0.4348 - Train Acc: 0.8109 - Val Acc: 0.8166\n",
      "Epoch 3/4 - Train Loss: 0.3900 - Val Loss: 0.4275 - Train Acc: 0.8294 - Val Acc: 0.8163\n",
      "Epoch 4/4 - Train Loss: 0.3675 - Val Loss: 0.4169 - Train Acc: 0.8400 - Val Acc: 0.8242\n",
      "\n",
      "Training fold 5/5...\n",
      "Epoch 1/4 - Train Loss: 0.5675 - Val Loss: 0.4744 - Train Acc: 0.7363 - Val Acc: 0.8003\n",
      "Epoch 2/4 - Train Loss: 0.4270 - Val Loss: 0.4452 - Train Acc: 0.8106 - Val Acc: 0.8081\n",
      "Epoch 3/4 - Train Loss: 0.3890 - Val Loss: 0.4458 - Train Acc: 0.8303 - Val Acc: 0.8116\n",
      "Epoch 4/4 - Train Loss: 0.3676 - Val Loss: 0.4371 - Train Acc: 0.8409 - Val Acc: 0.8024\n"
     ]
    }
   ],
   "source": [
    "results = []\n",
    "best_f1 = 0.0\n",
    "best_cm = None\n",
    "\n",
    "for param_idx, params in enumerate(param_grid):\n",
    "    lr = params['learning_rate']\n",
    "    batch = params['batch']\n",
    "    print(f\"\\n=== Param set {param_idx+1}/{len(param_grid)}: LR={lr}, Batch={batch} ===\")\n",
    "\n",
    "    for fold, (train_idx, val_idx) in enumerate(kf.split(X, y)):\n",
    "        print(f\"\\nTraining fold {fold+1}/5...\")\n",
    "\n",
    "        train_texts, val_texts = X.iloc[train_idx], X.iloc[val_idx]\n",
    "        train_labels, val_labels = y.iloc[train_idx], y.iloc[val_idx]\n",
    "\n",
    "        train_dataset = TextDataset(train_texts.tolist(), train_labels.tolist())\n",
    "        val_dataset = TextDataset(val_texts.tolist(), val_labels.tolist())\n",
    "\n",
    "        train_loader = DataLoader(train_dataset, batch_size=batch, shuffle=True, collate_fn=collate_fn)\n",
    "        val_loader = DataLoader(val_dataset, batch_size=batch, shuffle=False, collate_fn=collate_fn)\n",
    "\n",
    "        model = TextCNN(vocab_size=len(vocab), embed_dim=embed_dim, num_classes=3).to(device)\n",
    "        optimizer = optim.Adam(model.parameters(), lr=lr)\n",
    "        criterion = nn.CrossEntropyLoss()\n",
    "\n",
    "        model, train_loss_hist, val_loss_hist, train_acc_hist, val_acc_hist = train_model(\n",
    "            model, train_loader, val_loader, criterion, optimizer, epochs=epochs_num\n",
    "        )\n",
    "\n",
    "        true_labels, pred_labels = evaluate_model(model, val_loader)\n",
    "\n",
    "        accuracy = accuracy_score(true_labels, pred_labels)\n",
    "        precision = precision_score(true_labels, pred_labels, average='weighted')\n",
    "        recall = recall_score(true_labels, pred_labels, average='weighted')\n",
    "        f1 = f1_score(true_labels, pred_labels, average='weighted')\n",
    "        cm = confusion_matrix(true_labels, pred_labels)\n",
    "\n",
    "        results.append({\n",
    "            \"params_id\": param_idx + 1,\n",
    "            \"fold\": fold + 1,\n",
    "            \"learning_rate\": lr,\n",
    "            \"batch\": batch,\n",
    "            \"accuracy\": accuracy,\n",
    "            \"precision\": precision,\n",
    "            \"recall\": recall,\n",
    "            \"f1\": f1,\n",
    "            \"confusion_matrix\": cm\n",
    "        })\n",
    "\n",
    "        if f1 > best_f1:\n",
    "            best_f1 = f1\n",
    "            best_cm = cm\n",
    "            torch.save(model.state_dict(), f\"best_model_paramset_{param_idx+1}_fold_{fold+1}.pth\")\n"
   ]
  },
  {
   "cell_type": "code",
   "execution_count": 42,
   "id": "57b25201",
   "metadata": {},
   "outputs": [],
   "source": [
    "import pandas as pd\n",
    "\n",
    "# Konwersja listy wyników do DataFrame\n",
    "df_results = pd.DataFrame(results)\n",
    "\n",
    "# Zapis do pliku CSV\n",
    "df_results.to_csv(\"results_grid_search.csv\", index=False)"
   ]
  },
  {
   "cell_type": "code",
   "execution_count": 43,
   "id": "da9de221",
   "metadata": {},
   "outputs": [
    {
     "name": "stdout",
     "output_type": "stream",
     "text": [
      "   params_id  fold  learning_rate  batch  accuracy  precision    recall  \\\n",
      "0          1     1          0.001     16  0.822905   0.825424  0.822905   \n",
      "1          1     2          0.001     16  0.813966   0.823717  0.813966   \n",
      "2          1     3          0.001     16  0.821369   0.821117  0.821369   \n",
      "3          1     4          0.001     16  0.823939   0.821255  0.823939   \n",
      "4          1     5          0.001     16  0.822598   0.822480  0.822598   \n",
      "5          2     1          0.001     32  0.831201   0.832890  0.831201   \n",
      "6          2     2          0.001     32  0.824441   0.825366  0.824441   \n",
      "7          2     3          0.001     32  0.824106   0.823560  0.824106   \n",
      "8          2     4          0.001     32  0.824218   0.824854  0.824218   \n",
      "9          2     5          0.001     32  0.802402   0.822042  0.802402   \n",
      "\n",
      "         f1                                   confusion_matrix  \n",
      "0  0.820297  [[9863, 1560, 437], [3508, 7960, 472], [159, 2...  \n",
      "1  0.810755  [[7358, 4105, 397], [1339, 10232, 369], [105, ...  \n",
      "2  0.819706  [[8300, 3091, 469], [1990, 9517, 433], [130, 2...  \n",
      "3  0.822170  [[8836, 2512, 512], [2307, 9045, 588], [149, 2...  \n",
      "4  0.820821  [[8262, 3159, 439], [1955, 9553, 432], [125, 2...  \n",
      "5  0.831183  [[9623, 2034, 203], [3017, 8681, 242], [248, 2...  \n",
      "6  0.822866  [[9684, 1847, 329], [3250, 8257, 433], [203, 2...  \n",
      "7  0.822667  [[9458, 1983, 419], [3067, 8459, 414], [174, 2...  \n",
      "8  0.822226  [[8188, 3205, 467], [1807, 9689, 444], [122, 2...  \n",
      "9  0.795894  [[10613, 1010, 237], [4987, 6537, 416], [274, ...  \n"
     ]
    }
   ],
   "source": [
    "print(df_results)"
   ]
  },
  {
   "cell_type": "code",
   "execution_count": 47,
   "id": "a8c37195",
   "metadata": {},
   "outputs": [
    {
     "name": "stdout",
     "output_type": "stream",
     "text": [
      "   params_id  fold  learning_rate  batch  accuracy  precision    recall  \\\n",
      "0          1     4          0.001     16  0.823939   0.821255  0.823939   \n",
      "1          2     1          0.001     32  0.831201   0.832890  0.831201   \n",
      "\n",
      "         f1                                   confusion_matrix  \n",
      "0  0.822170  [[8836, 2512, 512], [2307, 9045, 588], [149, 2...  \n",
      "1  0.831183  [[9623, 2034, 203], [3017, 8681, 242], [248, 2...  \n"
     ]
    }
   ],
   "source": [
    "# Zakładam, że Twój DataFrame nazywa się df_results\n",
    "best_per_param = df_results.loc[df_results.groupby(\"params_id\")[\"f1\"].idxmax()].reset_index(drop=True)\n",
    "print(best_per_param)\n",
    "\n",
    "best_per_param.to_csv(\"results_grid_search_best.csv\", index=False)"
   ]
  },
  {
   "cell_type": "code",
   "execution_count": 11,
   "id": "8a09e9fd",
   "metadata": {},
   "outputs": [
    {
     "name": "stdout",
     "output_type": "stream",
     "text": [
      "\n",
      " === ACCURACY - Test Friedmana ===\n",
      "\n",
      " Średnie wyniki accuracy:\n",
      "config_C    0.8332\n",
      "config_B    0.8306\n",
      "config_A    0.8280\n",
      "dtype: float64\n",
      "\n",
      " Statystyka Friedmana: 10.0000, p-wartość: 0.0067\n",
      " Istnieje istotna różnica między konfiguracjami\n",
      "\n",
      " === F1 - Test Friedmana ===\n",
      "\n",
      " Średnie wyniki f1:\n",
      "config_C    0.8328\n",
      "config_B    0.8302\n",
      "config_A    0.8274\n",
      "dtype: float64\n",
      "\n",
      " Statystyka Friedmana: 10.0000, p-wartość: 0.0067\n",
      " Istnieje istotna różnica między konfiguracjami\n"
     ]
    }
   ],
   "source": [
    "import pandas as pd\n",
    "import scikit_posthocs as sp\n",
    "from scipy.stats import friedmanchisquare\n",
    "\n",
    "# Przykładowe dane: wyniki z 5 foldów dla 3 konfiguracji hiperparametrów\n",
    "metrics_all = {\n",
    "    \"accuracy\": {\n",
    "        \"config_A\": [0.831, 0.828, 0.827, 0.831, 0.823],\n",
    "        \"config_B\": [0.835, 0.830, 0.829, 0.834, 0.825],\n",
    "        \"config_C\": [0.840, 0.832, 0.831, 0.836, 0.827],\n",
    "    },\n",
    "    \"f1\": {\n",
    "        \"config_A\": [0.831, 0.827, 0.827, 0.831, 0.821],\n",
    "        \"config_B\": [0.835, 0.829, 0.829, 0.834, 0.824],\n",
    "        \"config_C\": [0.839, 0.831, 0.831, 0.837, 0.826],\n",
    "    }\n",
    "    # i inne metryki\n",
    "}\n",
    "\n",
    "\n",
    "for metric in metrics_all:\n",
    "    print(f\"\\n === {metric.upper()} - Test Friedmana ===\")\n",
    "\n",
    "    df = pd.DataFrame(metrics_all[metric])\n",
    "    print(f\"\\n Średnie wyniki {metric}:\")\n",
    "    print(df.mean().sort_values(ascending=False).round(4))\n",
    "\n",
    "    # Test Friedmana\n",
    "    stat, p = friedmanchisquare(*[df[col] for col in df.columns])\n",
    "    print(f\"\\n Statystyka Friedmana: {stat:.4f}, p-wartość: {p:.4f}\")\n",
    "\n",
    "    if p < 0.05:\n",
    "        print(\" Istnieje istotna różnica między konfiguracjami\")\n",
    "    else:\n",
    "        print(\" Brak statystycznie istotnych różnic między konfiguracjami.\")\n"
   ]
  }
 ],
 "metadata": {
  "kernelspec": {
   "display_name": "Python 3",
   "language": "python",
   "name": "python3"
  },
  "language_info": {
   "codemirror_mode": {
    "name": "ipython",
    "version": 3
   },
   "file_extension": ".py",
   "mimetype": "text/x-python",
   "name": "python",
   "nbconvert_exporter": "python",
   "pygments_lexer": "ipython3",
   "version": "3.10.0"
  }
 },
 "nbformat": 4,
 "nbformat_minor": 5
}
